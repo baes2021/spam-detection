{
 "cells": [
  {
   "cell_type": "code",
   "execution_count": 35,
   "metadata": {},
   "outputs": [],
   "source": [
    "import tensorflow as tf\n",
    "import tensorflow_hub as hub\n",
    "import tensorflow_text as text\n",
    "import pandas as pd"
   ]
  },
  {
   "cell_type": "code",
   "execution_count": 36,
   "metadata": {},
   "outputs": [
    {
     "data": {
      "text/html": [
       "<div>\n",
       "<style scoped>\n",
       "    .dataframe tbody tr th:only-of-type {\n",
       "        vertical-align: middle;\n",
       "    }\n",
       "\n",
       "    .dataframe tbody tr th {\n",
       "        vertical-align: top;\n",
       "    }\n",
       "\n",
       "    .dataframe thead th {\n",
       "        text-align: right;\n",
       "    }\n",
       "</style>\n",
       "<table border=\"1\" class=\"dataframe\">\n",
       "  <thead>\n",
       "    <tr style=\"text-align: right;\">\n",
       "      <th></th>\n",
       "      <th>v1</th>\n",
       "      <th>v2</th>\n",
       "      <th>Unnamed: 2</th>\n",
       "      <th>Unnamed: 3</th>\n",
       "      <th>Unnamed: 4</th>\n",
       "    </tr>\n",
       "  </thead>\n",
       "  <tbody>\n",
       "    <tr>\n",
       "      <th>0</th>\n",
       "      <td>ham</td>\n",
       "      <td>Go until jurong point, crazy.. Available only ...</td>\n",
       "      <td>NaN</td>\n",
       "      <td>NaN</td>\n",
       "      <td>NaN</td>\n",
       "    </tr>\n",
       "    <tr>\n",
       "      <th>1</th>\n",
       "      <td>ham</td>\n",
       "      <td>Ok lar... Joking wif u oni...</td>\n",
       "      <td>NaN</td>\n",
       "      <td>NaN</td>\n",
       "      <td>NaN</td>\n",
       "    </tr>\n",
       "    <tr>\n",
       "      <th>2</th>\n",
       "      <td>spam</td>\n",
       "      <td>Free entry in 2 a wkly comp to win FA Cup fina...</td>\n",
       "      <td>NaN</td>\n",
       "      <td>NaN</td>\n",
       "      <td>NaN</td>\n",
       "    </tr>\n",
       "    <tr>\n",
       "      <th>3</th>\n",
       "      <td>ham</td>\n",
       "      <td>U dun say so early hor... U c already then say...</td>\n",
       "      <td>NaN</td>\n",
       "      <td>NaN</td>\n",
       "      <td>NaN</td>\n",
       "    </tr>\n",
       "    <tr>\n",
       "      <th>4</th>\n",
       "      <td>ham</td>\n",
       "      <td>Nah I don't think he goes to usf, he lives aro...</td>\n",
       "      <td>NaN</td>\n",
       "      <td>NaN</td>\n",
       "      <td>NaN</td>\n",
       "    </tr>\n",
       "    <tr>\n",
       "      <th>...</th>\n",
       "      <td>...</td>\n",
       "      <td>...</td>\n",
       "      <td>...</td>\n",
       "      <td>...</td>\n",
       "      <td>...</td>\n",
       "    </tr>\n",
       "    <tr>\n",
       "      <th>5567</th>\n",
       "      <td>spam</td>\n",
       "      <td>This is the 2nd time we have tried 2 contact u...</td>\n",
       "      <td>NaN</td>\n",
       "      <td>NaN</td>\n",
       "      <td>NaN</td>\n",
       "    </tr>\n",
       "    <tr>\n",
       "      <th>5568</th>\n",
       "      <td>ham</td>\n",
       "      <td>Will Ì_ b going to esplanade fr home?</td>\n",
       "      <td>NaN</td>\n",
       "      <td>NaN</td>\n",
       "      <td>NaN</td>\n",
       "    </tr>\n",
       "    <tr>\n",
       "      <th>5569</th>\n",
       "      <td>ham</td>\n",
       "      <td>Pity, * was in mood for that. So...any other s...</td>\n",
       "      <td>NaN</td>\n",
       "      <td>NaN</td>\n",
       "      <td>NaN</td>\n",
       "    </tr>\n",
       "    <tr>\n",
       "      <th>5570</th>\n",
       "      <td>ham</td>\n",
       "      <td>The guy did some bitching but I acted like i'd...</td>\n",
       "      <td>NaN</td>\n",
       "      <td>NaN</td>\n",
       "      <td>NaN</td>\n",
       "    </tr>\n",
       "    <tr>\n",
       "      <th>5571</th>\n",
       "      <td>ham</td>\n",
       "      <td>Rofl. Its true to its name</td>\n",
       "      <td>NaN</td>\n",
       "      <td>NaN</td>\n",
       "      <td>NaN</td>\n",
       "    </tr>\n",
       "  </tbody>\n",
       "</table>\n",
       "<p>5572 rows × 5 columns</p>\n",
       "</div>"
      ],
      "text/plain": [
       "        v1                                                 v2 Unnamed: 2  \\\n",
       "0      ham  Go until jurong point, crazy.. Available only ...        NaN   \n",
       "1      ham                      Ok lar... Joking wif u oni...        NaN   \n",
       "2     spam  Free entry in 2 a wkly comp to win FA Cup fina...        NaN   \n",
       "3      ham  U dun say so early hor... U c already then say...        NaN   \n",
       "4      ham  Nah I don't think he goes to usf, he lives aro...        NaN   \n",
       "...    ...                                                ...        ...   \n",
       "5567  spam  This is the 2nd time we have tried 2 contact u...        NaN   \n",
       "5568   ham              Will Ì_ b going to esplanade fr home?        NaN   \n",
       "5569   ham  Pity, * was in mood for that. So...any other s...        NaN   \n",
       "5570   ham  The guy did some bitching but I acted like i'd...        NaN   \n",
       "5571   ham                         Rofl. Its true to its name        NaN   \n",
       "\n",
       "     Unnamed: 3 Unnamed: 4  \n",
       "0           NaN        NaN  \n",
       "1           NaN        NaN  \n",
       "2           NaN        NaN  \n",
       "3           NaN        NaN  \n",
       "4           NaN        NaN  \n",
       "...         ...        ...  \n",
       "5567        NaN        NaN  \n",
       "5568        NaN        NaN  \n",
       "5569        NaN        NaN  \n",
       "5570        NaN        NaN  \n",
       "5571        NaN        NaN  \n",
       "\n",
       "[5572 rows x 5 columns]"
      ]
     },
     "execution_count": 36,
     "metadata": {},
     "output_type": "execute_result"
    }
   ],
   "source": [
    "df=pd.read_csv('./spam.csv',encoding=\"ISO-8859-1\")\n",
    "df"
   ]
  },
  {
   "cell_type": "code",
   "execution_count": 37,
   "metadata": {},
   "outputs": [
    {
     "data": {
      "text/html": [
       "<div>\n",
       "<style scoped>\n",
       "    .dataframe tbody tr th:only-of-type {\n",
       "        vertical-align: middle;\n",
       "    }\n",
       "\n",
       "    .dataframe tbody tr th {\n",
       "        vertical-align: top;\n",
       "    }\n",
       "\n",
       "    .dataframe thead th {\n",
       "        text-align: right;\n",
       "    }\n",
       "</style>\n",
       "<table border=\"1\" class=\"dataframe\">\n",
       "  <thead>\n",
       "    <tr style=\"text-align: right;\">\n",
       "      <th></th>\n",
       "      <th>Categories</th>\n",
       "      <th>Massage</th>\n",
       "    </tr>\n",
       "  </thead>\n",
       "  <tbody>\n",
       "    <tr>\n",
       "      <th>0</th>\n",
       "      <td>ham</td>\n",
       "      <td>Go until jurong point, crazy.. Available only ...</td>\n",
       "    </tr>\n",
       "    <tr>\n",
       "      <th>1</th>\n",
       "      <td>ham</td>\n",
       "      <td>Ok lar... Joking wif u oni...</td>\n",
       "    </tr>\n",
       "    <tr>\n",
       "      <th>2</th>\n",
       "      <td>spam</td>\n",
       "      <td>Free entry in 2 a wkly comp to win FA Cup fina...</td>\n",
       "    </tr>\n",
       "    <tr>\n",
       "      <th>3</th>\n",
       "      <td>ham</td>\n",
       "      <td>U dun say so early hor... U c already then say...</td>\n",
       "    </tr>\n",
       "    <tr>\n",
       "      <th>4</th>\n",
       "      <td>ham</td>\n",
       "      <td>Nah I don't think he goes to usf, he lives aro...</td>\n",
       "    </tr>\n",
       "    <tr>\n",
       "      <th>...</th>\n",
       "      <td>...</td>\n",
       "      <td>...</td>\n",
       "    </tr>\n",
       "    <tr>\n",
       "      <th>5567</th>\n",
       "      <td>spam</td>\n",
       "      <td>This is the 2nd time we have tried 2 contact u...</td>\n",
       "    </tr>\n",
       "    <tr>\n",
       "      <th>5568</th>\n",
       "      <td>ham</td>\n",
       "      <td>Will Ì_ b going to esplanade fr home?</td>\n",
       "    </tr>\n",
       "    <tr>\n",
       "      <th>5569</th>\n",
       "      <td>ham</td>\n",
       "      <td>Pity, * was in mood for that. So...any other s...</td>\n",
       "    </tr>\n",
       "    <tr>\n",
       "      <th>5570</th>\n",
       "      <td>ham</td>\n",
       "      <td>The guy did some bitching but I acted like i'd...</td>\n",
       "    </tr>\n",
       "    <tr>\n",
       "      <th>5571</th>\n",
       "      <td>ham</td>\n",
       "      <td>Rofl. Its true to its name</td>\n",
       "    </tr>\n",
       "  </tbody>\n",
       "</table>\n",
       "<p>5572 rows × 2 columns</p>\n",
       "</div>"
      ],
      "text/plain": [
       "     Categories                                            Massage\n",
       "0           ham  Go until jurong point, crazy.. Available only ...\n",
       "1           ham                      Ok lar... Joking wif u oni...\n",
       "2          spam  Free entry in 2 a wkly comp to win FA Cup fina...\n",
       "3           ham  U dun say so early hor... U c already then say...\n",
       "4           ham  Nah I don't think he goes to usf, he lives aro...\n",
       "...         ...                                                ...\n",
       "5567       spam  This is the 2nd time we have tried 2 contact u...\n",
       "5568        ham              Will Ì_ b going to esplanade fr home?\n",
       "5569        ham  Pity, * was in mood for that. So...any other s...\n",
       "5570        ham  The guy did some bitching but I acted like i'd...\n",
       "5571        ham                         Rofl. Its true to its name\n",
       "\n",
       "[5572 rows x 2 columns]"
      ]
     },
     "execution_count": 37,
     "metadata": {},
     "output_type": "execute_result"
    }
   ],
   "source": [
    "df=df[[df.columns[0], df.columns[1]]]\n",
    "df=df.rename(columns={df.columns[0]: 'Categories', df.columns[1]: 'Massage'})\n",
    "df"
   ]
  },
  {
   "cell_type": "code",
   "execution_count": 38,
   "metadata": {},
   "outputs": [
    {
     "data": {
      "text/plain": [
       "ham     4825\n",
       "spam     747\n",
       "Name: Categories, dtype: int64"
      ]
     },
     "execution_count": 38,
     "metadata": {},
     "output_type": "execute_result"
    }
   ],
   "source": [
    "df.Categories.value_counts()\n"
   ]
  },
  {
   "cell_type": "code",
   "execution_count": 39,
   "metadata": {},
   "outputs": [
    {
     "data": {
      "text/html": [
       "<div>\n",
       "<style scoped>\n",
       "    .dataframe tbody tr th:only-of-type {\n",
       "        vertical-align: middle;\n",
       "    }\n",
       "\n",
       "    .dataframe tbody tr th {\n",
       "        vertical-align: top;\n",
       "    }\n",
       "\n",
       "    .dataframe thead tr th {\n",
       "        text-align: left;\n",
       "    }\n",
       "\n",
       "    .dataframe thead tr:last-of-type th {\n",
       "        text-align: right;\n",
       "    }\n",
       "</style>\n",
       "<table border=\"1\" class=\"dataframe\">\n",
       "  <thead>\n",
       "    <tr>\n",
       "      <th></th>\n",
       "      <th colspan=\"4\" halign=\"left\">Massage</th>\n",
       "    </tr>\n",
       "    <tr>\n",
       "      <th></th>\n",
       "      <th>count</th>\n",
       "      <th>unique</th>\n",
       "      <th>top</th>\n",
       "      <th>freq</th>\n",
       "    </tr>\n",
       "    <tr>\n",
       "      <th>Categories</th>\n",
       "      <th></th>\n",
       "      <th></th>\n",
       "      <th></th>\n",
       "      <th></th>\n",
       "    </tr>\n",
       "  </thead>\n",
       "  <tbody>\n",
       "    <tr>\n",
       "      <th>ham</th>\n",
       "      <td>4825</td>\n",
       "      <td>4516</td>\n",
       "      <td>Sorry, I'll call later</td>\n",
       "      <td>30</td>\n",
       "    </tr>\n",
       "    <tr>\n",
       "      <th>spam</th>\n",
       "      <td>747</td>\n",
       "      <td>653</td>\n",
       "      <td>Please call our customer service representativ...</td>\n",
       "      <td>4</td>\n",
       "    </tr>\n",
       "  </tbody>\n",
       "</table>\n",
       "</div>"
      ],
      "text/plain": [
       "           Massage                                                            \\\n",
       "             count unique                                                top   \n",
       "Categories                                                                     \n",
       "ham           4825   4516                             Sorry, I'll call later   \n",
       "spam           747    653  Please call our customer service representativ...   \n",
       "\n",
       "                 \n",
       "           freq  \n",
       "Categories       \n",
       "ham          30  \n",
       "spam          4  "
      ]
     },
     "execution_count": 39,
     "metadata": {},
     "output_type": "execute_result"
    }
   ],
   "source": [
    "df.groupby('Categories').describe()"
   ]
  },
  {
   "cell_type": "code",
   "execution_count": 40,
   "metadata": {},
   "outputs": [
    {
     "data": {
      "text/plain": [
       "4825"
      ]
     },
     "execution_count": 40,
     "metadata": {},
     "output_type": "execute_result"
    }
   ],
   "source": [
    "n=df[df['Categories'] == 'ham'].count()\n",
    "n[0]"
   ]
  },
  {
   "attachments": {},
   "cell_type": "markdown",
   "metadata": {},
   "source": [
    "calculate the percentage of spam and non-spam emails"
   ]
  },
  {
   "cell_type": "code",
   "execution_count": 41,
   "metadata": {},
   "outputs": [
    {
     "data": {
      "text/plain": [
       "(Categories    0.865937\n",
       " Massage       0.865937\n",
       " dtype: float64,\n",
       " Categories    0.134063\n",
       " Massage       0.134063\n",
       " dtype: float64)"
      ]
     },
     "execution_count": 41,
     "metadata": {},
     "output_type": "execute_result"
    }
   ],
   "source": [
    "ratio_email=df[df['Categories'] == 'ham'].count()/len(df)\n",
    "ratio_spam=df[df['Categories'] == 'spam'].count()/len(df)\n",
    "ratio_email, ratio_spam"
   ]
  },
  {
   "attachments": {},
   "cell_type": "markdown",
   "metadata": {},
   "source": [
    "This shows that we are facing with imbalanced data"
   ]
  },
  {
   "cell_type": "code",
   "execution_count": 43,
   "metadata": {},
   "outputs": [],
   "source": [
    "X=df['Massage']\n",
    "y=df['Categories']"
   ]
  },
  {
   "attachments": {},
   "cell_type": "markdown",
   "metadata": {},
   "source": [
    "convert X to vectors"
   ]
  },
  {
   "cell_type": "code",
   "execution_count": 48,
   "metadata": {},
   "outputs": [],
   "source": [
    "from sklearn.feature_extraction.text import TfidfVectorizer\n",
    "vectorizer=TfidfVectorizer()\n",
    "X_tf=vectorizer.fit_transform(X)"
   ]
  },
  {
   "attachments": {},
   "cell_type": "markdown",
   "metadata": {},
   "source": [
    "Resampling"
   ]
  },
  {
   "cell_type": "code",
   "execution_count": 49,
   "metadata": {},
   "outputs": [],
   "source": [
    "from imblearn.over_sampling import SMOTE\n",
    "smote=SMOTE()\n",
    "X_resample, y_resample=smote.fit_resample(X_tf,y)\n"
   ]
  },
  {
   "cell_type": "code",
   "execution_count": 54,
   "metadata": {},
   "outputs": [
    {
     "data": {
      "text/plain": [
       "(9650, 8672)"
      ]
     },
     "execution_count": 54,
     "metadata": {},
     "output_type": "execute_result"
    }
   ],
   "source": [
    "X_resample.shape\n"
   ]
  },
  {
   "attachments": {},
   "cell_type": "markdown",
   "metadata": {},
   "source": [
    "Convert vector to words and text to be prepared for using bert"
   ]
  },
  {
   "cell_type": "code",
   "execution_count": 57,
   "metadata": {},
   "outputs": [],
   "source": [
    "reverse_transform = vectorizer.inverse_transform(X_resample)\n",
    "resampled_texts = [' '.join(tokens) for tokens in reverse_transform]\n"
   ]
  },
  {
   "cell_type": "code",
   "execution_count": 58,
   "metadata": {},
   "outputs": [
    {
     "data": {
      "text/plain": [
       "['wat amore got there cine buffet la world great bugis in only available crazy point jurong until go',\n",
       " 'oni wif joking lar ok',\n",
       " '08452810075over18 apply rate txt std question receive 87121 text 2005 may 21st tkts final cup fa win to comp wkly entry free in',\n",
       " 'then already hor early so say dun',\n",
       " 'though here around lives usf goes he think don nah to',\n",
       " 'rcv 50 send chgs xxx tb still for up you fun some like back word no and now week been it darling hey freemsg std to ok there',\n",
       " 'patent aids treat they me with speak not is brother my even like to',\n",
       " 'friends copy press callers all callertune set has vettam nurungu minnaminunginte oru melle request your per as for been to',\n",
       " 'hours 12 valid kl341 code 09061701461 call claim reward prize 900 receivea selected have customer network valued winner as you been to only',\n",
       " '08002986030 on co camera mobiles colour latest the update entitled more or months 11 mobile had call your with for to free',\n",
       " 'today enough cried ve tonight anymore stuff this about talk want soon home be gonna and don to',\n",
       " 'info hl reply tsandcs 16 6days day 150p cost 87575 csh11 pounds 000 20 100 from cash chances six send and apply txt win to',\n",
       " '4403ldnw1a7rw18 pobox lccltd net dbuk www 81010 jackpot our membership won urgent 000 100 the claim prize have you word no week txt to free in',\n",
       " 'times at blessing wonderful fulfil will granted help take wont promise breather thank words right searching ve this the have all your my for you and been to',\n",
       " 'sunday date will on have with',\n",
       " 'qjkgighjjgcbl com http message next link wap click credit use xxxmobilemovieclub the or your here txt to in',\n",
       " 'watching oh here',\n",
       " 'wet make naughty did yes name his spell how remember eh he until',\n",
       " 'gota its feel way thatåõs if fine the',\n",
       " 'poboxox36504w45wq ì¼1 4txt scotland wales try eg 87077 national ur news team goals miss dont macedonia england 16 20 the txt to',\n",
       " 'seriously that name his spell how is you',\n",
       " 'ha going try months for to joking only',\n",
       " 'comin stock da when first pay ì_ is then so lar',\n",
       " 'smth ard lor down str lunch finish aft ur my then already go',\n",
       " 'sooner meet can alright ffffffffff way with up you no',\n",
       " 'lol pizza turn sick knows worried getting mark sucks tho hungry really slice eat myself forced just down when this not is he to',\n",
       " 'convincing always lol your so',\n",
       " 'love do dinner over left mom eating tea egg an frying are bus catch feel make did the your my you',\n",
       " 'room know let ll car packing re we amp if the you back now there',\n",
       " 'does what vaguely work ahhh lol that feel remember like it',\n",
       " 'us live doesn why sarcastic being sure were clear wait that about want or all me with not still you to',\n",
       " 'cheers badly too doing but till caught child spoilt actin she out fallen apologetic was yeah we that at won had not up you like and he got there in go',\n",
       " 'anything tell about me you',\n",
       " 'cuppa quick housework fainting of fear just that did the have all with for you',\n",
       " 'replying by confirm please month charged uk ringtone subscription thanks if yes will reply be or mobile your not for you no to',\n",
       " '8am lesson her 2nd learn xuhui again msg timings look yup too but ì_ going at home on the is then may to ok go',\n",
       " 'done roommate oops know let ll when my you',\n",
       " 'letter see car on the my',\n",
       " 'decide anything lor',\n",
       " 'invite trying tomo decided texting saturday hello see anything was do myself just that if did how or not you and to go',\n",
       " 'abiola weekend wanted watts ahead pls sure do just be have with to great go',\n",
       " 'yummy mmmmmm steed arabian sweet most crave need forget of tell but love did want all my you to',\n",
       " 'tomorrow delivery 08000930705 camcorder nokia sms tried burns rodger 07732584351 msg please re we our reply mobile call your for you now to free',\n",
       " 'seeing who are you',\n",
       " 'inches gt lt am endowed well man hope your you like great',\n",
       " 'missed messages calls no',\n",
       " 'nigeria immunisation hep get didn you in',\n",
       " 'fair anything going enough on',\n",
       " 'bit ask maybe could tyler hopefully yeah do can if it around',\n",
       " 'suckers hospitals sucker weak telling kept hospital stubborn didn am know are mark how want the not even for don to go',\n",
       " 'class saw time thinked what first about me you in',\n",
       " 'second whole almost gets smarter eighth half runs usually gram gt lt is for you like and though',\n",
       " 'place crashing morning ride fyi tomorrow but at our tonight has he early',\n",
       " 'embarassing offered give sorry cave happy seemed best since liked thought accomodations embarassed realized never wow could didn by doing was were room always that about the more have your you and it don so to',\n",
       " 'end incorrect correct hockey ice play wings red detroit devils jersey new sptv ac sms reply the or and',\n",
       " 'url find yesterday sherawat mallika gt lt out what know do did you now',\n",
       " '150pm 5we ip4 bx420 etc starwars3 matrix3 suprman 09061209465 yours pass cinema special year congrats out miss dont call all is for now free',\n",
       " 'meeting later sorry ll call in',\n",
       " 'reached where tell you',\n",
       " 'series odi sehwag gauti of out yes and',\n",
       " 'killing pain move yourself burger pick can way home gonna on have your me is even for up to',\n",
       " 'seekers situation girls joke good are ha',\n",
       " 'iq checking part of its',\n",
       " 'come forever took roommates sorry by if my now it ok',\n",
       " 'nice short cut wun said dresser hair check double look da will he already wif lar ok until',\n",
       " '09066364589 bonus 1500 awarded mob review recent following advise pleased am of are that call prize customer valued your as with you no to',\n",
       " 'rply frnds valuable dedicate which dedicated song but first ur will day today this all me is send for to',\n",
       " '3aj ls1 10 shracomorsglsuplt morefrmmob 18 dis 1000 entry41 aco trav eurodisinc trip complimentary awarded ur urgent or claim 50 txt 87121 to',\n",
       " 'ken comes barbie divorce hear new of did stuff about the all with you it',\n",
       " 'plane end give month this on to',\n",
       " 'hee money save lucky wah man can then',\n",
       " 'finished where class are you',\n",
       " 'xx something wanna im babe hi do at home now',\n",
       " 'performed where are did how you',\n",
       " 'can call me now',\n",
       " 'once machan waiting am call me you free',\n",
       " 'respect dignity gentleman cool thats am will treat with you and',\n",
       " 'pa shy much very peoples am but you like',\n",
       " 'after operate gt lt does what or not',\n",
       " 'earn ta job looking same much do its how the not still for here there',\n",
       " 'later sorry ll call',\n",
       " 'ah just did call me you now',\n",
       " 'hi am way home on the to ok',\n",
       " 'place man of that will be the you in',\n",
       " 'stop yup next',\n",
       " 'urgnt later sms if call have network me you don',\n",
       " 'multis used jacket one tickets yo real need done getting when on more all my for and already only',\n",
       " 'nitros gotta factory coins bed came requests started double pain too but make yes at cash the all my send back it so to in',\n",
       " 'babe really tonight not still up it to',\n",
       " 'wen download il kano ela come ur free',\n",
       " 'close stand something yeah ll do catch tho you don to',\n",
       " 'sheets includes stuff42moro any haven means casualty afternoon late spent night another pain sorry time done of we meet that if be all is my and it to ok in',\n",
       " 'smiling loves someone becoz hurts sum1 rain pours trouble pleasure smile pain see when still like to in',\n",
       " '5000 guaranteed 9pm 10am between 6031 169 0800 representative service 1000 please our won cash on or call prize have customer as you',\n",
       " 'show 530 lido buy planning havent afternoon check later work finish already to got in only',\n",
       " 'fml britney usher verify 85069 mix password simply collected waiting get ringtone be the your is and text to free',\n",
       " 'abt movie telugu watching wat',\n",
       " 'loans loads see of we finish when pay have to',\n",
       " 'ham prob cause beforehand shower four appointment hairdressers forgot run hols wk hi bit get need of does that yes at home on have for now been so to ok',\n",
       " 'else nothing please anymore have me don say text to',\n",
       " 'ams ave them legal long price okay wen xx pick can ur its name as up',\n",
       " 'yet test driving 4the gone buy looking car have not still for and to',\n",
       " 'friends copy press callers all callertune set has vettam nurungu minnaminunginte oru melle request your per as for been to',\n",
       " 'says page signin cuz nyc location search changed men boston gave guess mean once something wow didn re do that right on my still up you and it to',\n",
       " 'dear lot vava life umma love my you and',\n",
       " 'memorable truly making birthday wishes lot thanks on your my for you',\n",
       " 'hit aight get ll when cash up you some',\n",
       " 'server minecraft isn computer considering address ip would test that how my',\n",
       " 'jokes lying better people old grumpy one play am again was know mom always be the not my you like then to',\n",
       " 'busy worry guess dont he',\n",
       " 'research noun plural of what the is',\n",
       " 'after msg dinner going for you',\n",
       " 'loud mah scared things cos said new too but try not like it dun wif ok',\n",
       " '150ppm 12hrs k52 09064012160 shows draw weekends last contact gent guaranteed 1000 trying we are that won valid code call claim prize you to only',\n",
       " 'happened anythin haha weight puttin eatin tt juz anyway formal sentence openin wa much very special too ur fine on so',\n",
       " 'went apartment invited askd felt boss cabin entered after pa said special happy her she we lunch day as me my to there',\n",
       " 'min 0871277810910p operator inc flights holiday specially 18 1000 live are or claim selected have winner speak you been receive to',\n",
       " 'needed tortilla ratio potato friday must goodo we egg yes speak for',\n",
       " 'food directly school paying informed uncle hmm buy pls just that the me my he so',\n",
       " 'expires 45239 identifier 08719180248 points unredeemed 786 07742676969 statement account 2004 private shows bonus code call claim your for to',\n",
       " 'box42wr29c 09064019788 landline 03 caller 2000 150ppm contact bonus awarded was try our urgent from this on mobile call prize your is no final to',\n",
       " 'malarky pairs apples address new that all is my here',\n",
       " 'app rates standard 4041 quoting 08712300220 match award 350 7548 ending numbers voda todays please are if code call claim selected have you receive to',\n",
       " 'mu sao am done going at will today be 12 to only',\n",
       " 'buying predict ìï time ll finish ì_ wat',\n",
       " 'good do will stuff',\n",
       " 'apologise imposed shouldn involve sending bother sent hasn yetunde yet money yourself place her anything know over just first that dont its on the have not for you so text to in',\n",
       " 'room are you there in',\n",
       " 'lucyxx sum bak del girl long give time well hope again an how from call me no hey',\n",
       " 'much does how cost it',\n",
       " 'home',\n",
       " 'accomodate tmorrow dear pls will call',\n",
       " 'answer first my question',\n",
       " 'tyrone sp 82277 ansr algarve country player dvd sony top quiz sunshine which know if the is 50 txt win to wkly in',\n",
       " '31p ec2a nt 69888 gravel txting bt largest join direct locations dogging laid sent real mob get msg uk ur 150p tonight want the network to',\n",
       " 'hotmail yijue msn haf com it only',\n",
       " 'him meet call is you and he there',\n",
       " 'activities befor rooms check will all no',\n",
       " 'yr age 69988 services hardcore svc chat msgs must nothing verify any get again ll try if from the more network with not rcv for you text to free go',\n",
       " 'pouch lect type lazy forgot nice saw but ì_ not like to got in',\n",
       " 're when way on the me you text',\n",
       " 'mail sir waiting your for',\n",
       " 'ni8 gud hearts their biggest occupy those somtimes coz persons lovable little tired nver swt things part thought get of doing in',\n",
       " 'open pls know are can the you back',\n",
       " 'dot ya see yes on the not',\n",
       " 'taking staff whats class who us name the is for',\n",
       " '08700621170150p ltd netcollex luv local female sexy randy replied haven stop hear end msg live why reply from per my you and freemsg text to',\n",
       " 'hard pray qatar begin ummma life after very check pls will our from call so in',\n",
       " 'deleted contact why that my',\n",
       " 'soft birla sindu job got in',\n",
       " 'nevering flowing wine the have is and',\n",
       " 'plaza thk mah cos better need yup down is no cine go',\n",
       " 'typical ur reply ok',\n",
       " 'friends copy press callers all callertune set has vettam nurungu minnaminunginte oru melle request your per as for been to',\n",
       " 'become mist hail exist tv lots joy chores without dream mouth sometimes shirt windows floor dirt everywhere flowing open must shows things guess rain one comes half time see done of too but out ll are just when that on the all me is my even for you like and here then world',\n",
       " 'aaooooright work are at you',\n",
       " 'house leaving my now',\n",
       " 'missing boy interview good happy get hello of doing being what love do are that did today me my you think to',\n",
       " 'arrange 07046744435 years annoncement service waiting new delivery please call have customer for you now to',\n",
       " '0871277810810 operator inc flights holiday specially 1000 live are cash or claim selected have winner speak you been receive to',\n",
       " 'everyone envy because safe keep life real yourself need see that miss me for you and already in',\n",
       " 'hand parents house job new car have my for and in only',\n",
       " 'spend each excited happy love make day me with you so in',\n",
       " '62468 frnd 434 friend inviting 32 bootydelious stop ac sms pls see her yes www reply be or is send you no to',\n",
       " 'menu internet bangb goto content should order bangbabes tv service download msg do ur way if wap on the mobile not is receive',\n",
       " 'module cultures points place ur on all already',\n",
       " 's89 09061701939 12hrs shows draw weekends last contact guaranteed trying we are that won urgent valid code call claim prize 900 have you to only',\n",
       " 'beloved wit missunderstding avoid frnd one hi which best way our is to',\n",
       " 'lager needs bridge fancy escape tomo see her but the you great',\n",
       " 'waste utter also clark form completely of out yes it in',\n",
       " 'bank axis sir account address need no and',\n",
       " 'liao discuss muz hop hmmm thk ya abt time sure can ard call to free got go',\n",
       " 'coming later time what down you',\n",
       " 'begins spanish clue ill mr surname believe cant hell bloody forgot give its with my you and',\n",
       " 'bath night good well finish fine gonna have my now',\n",
       " 'carlos money know let can when make ve the call me you so got',\n",
       " 'mall going the still to',\n",
       " 'worth smoke til staying turns show whole gt lt ahead out are that feel won be the friends my for back and so to free go',\n",
       " 'log doesnt her she know let can if reply have me so text in',\n",
       " 'toll experience satisfied maneesha spoke hi were know we just if yes reply the or with you like no to free',\n",
       " 'gr8 anyways studying approaches especially offer hopes lifted hurts money end am need weekend month of when the have with my you and it in',\n",
       " 'trust lol can me no',\n",
       " 'respect dignity gentleman am will treat with you and ok',\n",
       " 'guys close will you he',\n",
       " 'bye nothing going on great',\n",
       " 'boytoy mummy towards working finding handsome lazy job where hello being does are getting that miss net me not my for you back now he',\n",
       " 'minute awesome haha be there in',\n",
       " '11pm 9am 4742 145 0808 freephone 5000 guaranteed between representative service 1000 please our won cash on or call prize have customer as you',\n",
       " 'radio xmas get if times will have not you now it got',\n",
       " 'finishes using sis bathe jus reached tell but she when first net home my go',\n",
       " 'areyouunique august 30th unique find uk out are www from enough co you',\n",
       " 'personal deal touch league joined friend keep people mean sorry of do that dont times at cost ve the have all me even you week been to great in',\n",
       " 'course completed finally hi the',\n",
       " 'stool every ors able stays suggest however itself someone stop give she that will be on with for it to',\n",
       " 'wishin settled gr8 school year new hope doing are just how day ve the for you in',\n",
       " 'hav mrng gud dear nice day',\n",
       " 'story persons that did got',\n",
       " 'mrt orchard 1pm tmr dead hamster meet at your is you hey so',\n",
       " 'babyjontet evening kate bloody hi bit hope tomorrow see but can its if how have your is xxx for you back txt to',\n",
       " 'enc found where gt lt at you it',\n",
       " 'bucks sent gt lt you',\n",
       " 'college ive darlin kate finished hello love can finish when if me xxx now so txt',\n",
       " 'kr id transaction rs balance prepaid keralacircle decimal inr successfully refilled account gt lt by has your is been',\n",
       " 'ga sleeping goodmorning',\n",
       " 'alter at 11 call me ok',\n",
       " 'oredi cannot oso ericsson dat ìï buy like say dun lar until',\n",
       " 'went apartment invited askd felt boss cabin entered after pa said special happy her she we lunch day as me my to there',\n",
       " 'dogg straight dats aight yo',\n",
       " 'bill refund before connection decimal itself give gt lt please us today the or you',\n",
       " 'ready big shoot both loads get so',\n",
       " 'semester rewarding break bruv hope what do had have up you great',\n",
       " 'chat we always can home so',\n",
       " 'study good well',\n",
       " 'leh noe yup ì_ how',\n",
       " 'sounds are home you now great',\n",
       " 'prediction heading finally towards match draw the your as',\n",
       " 'nights few past slept tired haven well the',\n",
       " 'sen easy means ah good its selected got',\n",
       " 'march exam take have with to',\n",
       " 'register atm ready should anyway gt but yeah sure know let do are can when if use help be your me not you now think to there',\n",
       " 'prob time ur take no ok',\n",
       " 'shop repair system files important disk installing ubandu called os without hard run which give can that use will the copy is you and it to there in',\n",
       " 'later sorry ll call',\n",
       " 'scenery nite romantic happen leh course jus thk nothing nice bit of lor not so say lar only',\n",
       " 'mtmsg18 50gbp 087187262701 2optout biz tc collect 89545 500 2004 must yours new nokia www from today mobiles no txt to only go',\n",
       " 'appreciate would someone need really just if talk call me you to',\n",
       " 'aries sign star followed horo start flyng off career partner dream find by out meet ur will soon is txt free',\n",
       " 'mudyadhu po elama company hey',\n",
       " 'lessons conducts teaches bcoz teacher than strict exam life happy morning lesson but amp first more is then',\n",
       " 'dear good morning am up now only',\n",
       " 'street side road cross walk gandhipuram cut get gt lt turn down first at right and to in',\n",
       " 'rubber dear place we are going our to',\n",
       " 'died battery sorry yeah here',\n",
       " 'tv place work always yes is here in available',\n",
       " 'pence thirtyeight recd 25 sam 10p flirt sexy age join someone 18 find msg just meet can eg its name date reply today or with even up text to',\n",
       " 'upstairs printed come gt lt oh have it so',\n",
       " 'closer street ill little stop same bus at be on the or like',\n",
       " 'reach wil where are when you here',\n",
       " 'kick argue person loses wins argument theory them situation correct new but amp always just ur dont the friends with so say',\n",
       " '09058094597 thinks reveal admirer secret 447801259231 contact looking special find who out ur make on call have they with is so',\n",
       " 'case laptop hearing tomarrow cant on my so final',\n",
       " 'sportsx avent tel pleassssssseeeeee done me',\n",
       " 'signing meant shining sounds better okay but was just that be on no to',\n",
       " 'touched everything thanx fr watch watches face baig into told although dat cos gave done but really today ve like now it',\n",
       " 'commercial old that remember don',\n",
       " 'slippers website late said didn too dont the or have',\n",
       " 'asked him call you now to ok',\n",
       " 'innings bat kallis 2nd wont in',\n",
       " 'sleep dearly wake fix goodnight didnt ready night very good time missed again by work ll are oh the have up you and it then ok',\n",
       " 'com1win150ppmx3age16 ldew tncs 87066 music 125gift vouchers cd congratulations 500 draw guaranteed awarded of ur www 100 or txt to wkly entry free',\n",
       " 'hold 5min deepak deeraj drpd cal ranjith and',\n",
       " 'manda kettoda care affection deep showing true childish dnt wid angry bcums luv coz lovable wen nice most of being da seriously ur way take day have is it',\n",
       " 'doing what are how you',\n",
       " 'nipost bribe lag usps other 2wks takes shipping 3days ups company also which gets get but when that way stuff the have your is you and week it may to',\n",
       " 'lemme ready know re when you back',\n",
       " 'headin expect necessarily before because get done out just be you back now it though don to',\n",
       " 'suzy jolt mmm babe nice yummy the so to',\n",
       " 'lover where need are you',\n",
       " 'unlimited mins networks anytime 750 handset video offer contact 08000930705 camcorder tried of re we our reply or call your you now text to',\n",
       " 'mini parked coming do are when next today you think to in',\n",
       " 'yup',\n",
       " 'disturb own shopping sis liao anyway cos yet done going on not my now dun',\n",
       " 'ring 0125698789 luton ur if me my no around in',\n",
       " 'unsubscribe 69698 hot naked horny chat stop 150pm am see charged really at want or me hey text to',\n",
       " 'dint come us why with you',\n",
       " 'sometme plan wana same trip then',\n",
       " 'hold him yet get trying of sure not still to',\n",
       " '2wt mk45 box1146 club4 87070 club choose club4mobiles credits 25 po content changed wk service stop ringtone ur com 150p has now txt to free go',\n",
       " 'jealous flash evo download just the had to',\n",
       " 'charge quality chart singles club choose each top any get uk ringtone of message this on the mobile your is and week free',\n",
       " 'narcotics sorting mu come situation out re we our to',\n",
       " 'bay blue worries leaves rays sunny ended smile night another come special morning way at day the has your for you like and may in',\n",
       " '100percent 86688 questions genuine hmv vouchers 500 easy answer real bonus special play of just com www won info pounds be more send now to',\n",
       " 'might guess well car take as usf',\n",
       " 'bf objection coming not my no',\n",
       " 'thanx',\n",
       " 'theater gf mack rob tell his the to in',\n",
       " 'awesome bit see ll you in',\n",
       " 'type sent food of what do just you like it so',\n",
       " 'swing full celebrations handed yet done all in',\n",
       " 'tool called you got',\n",
       " 'someone wen miss',\n",
       " 'far asked money how for ok',\n",
       " 'okie',\n",
       " 'throw anybody ahold passed guy usual last night get of out yeah know let ll down if from me my still you and think',\n",
       " 'lets might come class by out if tonight my then early',\n",
       " 'ok',\n",
       " 'jenny fone hour cruisin baby friend girl thats im hi give what love alright if at this home on or call me with my xxx up and now in',\n",
       " 'ge because people lot life them means calls but love the call friends me not my to world in',\n",
       " 'sense ollu raksha edukkukayee varunnathu tonite shall street mail things busy dear one real looking good but are the update you ok in',\n",
       " 'gautham told ah name your you hey to',\n",
       " 'cam stupid found working him haf was da feel so',\n",
       " 'bit oops that got',\n",
       " 'buzy much are this you',\n",
       " 'resend accidentally deleted please message the',\n",
       " '28thfeb ends 3680 021 0845 loyalty card sim upgrade phone offer pay on camera mobile call claim customer your for you now apply may free go',\n",
       " 'appropriate gurl unless would situation where be more you it go',\n",
       " 'bslvyl grave rose plz die cry tease hurt stupid keep life one nice end of but when miss make day on the have me my and say in',\n",
       " 'phone cant pick pls message right the send now',\n",
       " 'coffee believe run time need tomo of can that week it already',\n",
       " 'diesel high somebody awesome last time we first remember the with for got',\n",
       " 'taxi crash somewhere def imagine scary shocking shit cant night save second could out do really that on is for up and think there',\n",
       " 'meal fridge food by out do way oh tonight want the more have your for you and to in go',\n",
       " 'actor womdarfull is he',\n",
       " 'hide dates icmb3cktz8r7 img kingdom united aberdeen 21 rodds1 4u blind him check ac sms out http date from is send no',\n",
       " 'book remb should yup what can from be think',\n",
       " 'jos wana ask meet if up',\n",
       " 'thread hanging friendship cause buy lol yes our won stuff on is',\n",
       " '82468 funky fit sport babes gossip tones games selection newest themob content keep check of out wap our mobile your and text to',\n",
       " 'bookshelf aren keys garage where are on the they',\n",
       " 'enemy bstfrnd swtheart belovd lifpartnr cutefrnd jstfrnd lvblefrnd clos1 best1 dear1 sister accept lover means rply day today as me is brother no',\n",
       " 'gbp1 3uz m26 84 box winnersclub cs 85222 weekly 200 smart po quiz play ur our 16 this 50 now week think text win to in',\n",
       " 'definitely before friend buying says money end give of but ll when that his the call me week he got',\n",
       " 'lost wot mylife rest normal 2day unique real hi find hope of was know ur way this the me with is',\n",
       " 'made too do day have my you great',\n",
       " 'pongal advance happy',\n",
       " 'lo anot tahan dunno yoga power kb oso liao hmmm thk haha guess forgot we can got go',\n",
       " 'afraid dude really have friends not no',\n",
       " '08002986906 11mths december are on co camera colour latest the update entitled mobile had call your for you to free only',\n",
       " 'cake coffee guess',\n",
       " 'kisses christmas merry ya babe too love you to',\n",
       " 'watch haha men why we just lunch dont have and hey go',\n",
       " 'pete waitin gon buses l8 gona ppl cud full past hav cos im bit tell were they still',\n",
       " 'flight plans bristol guild somewhere road touch would good could get weekend ll we over meet that at will take our be on the or have week great in',\n",
       " 'problem doing are how you no',\n",
       " 'missed messages calls no',\n",
       " 'todays hi class da how the is',\n",
       " 'women reading record track sign good well but know that at my you say',\n",
       " 'parked cool re when me you text',\n",
       " 'light read reading meant sent joke just that its be the you it so text to in',\n",
       " 'apo movie good',\n",
       " 'immediately return book something maybe could get tomo out or it then',\n",
       " 'prepayment 85 861 0844 number access via line fixed germany pence minute direct from call per for no only',\n",
       " 'supervisor report paperwork employer stealing privacy violated evaporated chance number phone might contact any cool again by please do at will from soon or had have all your as me with not my you to',\n",
       " '08718720201 custcare rcvd 83600 lifetime valentines partner quiz 1000 trip special msg of over take our day 150p on the your send and now win to in go',\n",
       " 'daaaaa ta babe am are home still up you',\n",
       " 'dined wined before havent cool come how you and been so',\n",
       " 'surfing sleeping just and',\n",
       " 'later sorry ll call',\n",
       " 'calling phone hand right call me my',\n",
       " 'thanx lot that ok great',\n",
       " 'bless favourite caroline wiv texts 1000s post reading him must one come end happy hello of at take from the have has is my you now it then',\n",
       " 'stranger hiding where been',\n",
       " 'interested am do that not like to',\n",
       " 'round two cleared sister soft birla yesterday my in',\n",
       " 'practice gudnite tc going on',\n",
       " 'num huiming case jus mail yijue sent havent dis saw ur is my in',\n",
       " 'prestige small problem one now',\n",
       " 'txts 69876 xxuk sextextuk shag interested suzy tncs website fancy msg do com cost on per 50 txt to',\n",
       " 'jeremiah checking seeing month do really just miss on have you great in',\n",
       " 'iphone never an can help ve had you nah there',\n",
       " 'apeshit hour half car re an going if not my you and in',\n",
       " 'basically fault urself slap misbehaved ever plz hurt angry bcoz good sorry was just ur its if day today or with is you',\n",
       " 'weed safely jay alcohol figure ever guys spend yo much need trying out we are can how on for you and to',\n",
       " 'wtf ago minutes ish gt lt was',\n",
       " 'tayseer tissco aig tata ex rakhesh allah insha insurance met remembered sirji onam calling person joined qatar forgot happy am who an meet when fine thank for you and here say to in',\n",
       " 'com1win150ppmx3age16 ldew tncs 87066 music 125gift vouchers cd congratulations 500 draw guaranteed awarded of ur www 100 or txt to wkly entry free',\n",
       " 'w1j6hl row 2lands suite342 hg 08708800282 cc maximize currently 86688 500 balance msg ur 150p pounds cash is send now to in only',\n",
       " 'moment unemployed actor sleep evening every late since saturday work re an always when at day the is you and in',\n",
       " 'posted cold andrews st keep boy long hello just its way will you here got',\n",
       " 'db chikku cool ha',\n",
       " 'prob oh no ok',\n",
       " 'status audrey check right now',\n",
       " 'forward finally busy looking meeting year new am trying finish for you here to',\n",
       " 'air breathe alive refreshed dawns sunshine smile afternoon good happy of we love do are always that how day be the as my you and think to in',\n",
       " 'worries care well of know will take me no so',\n",
       " 'f4q call2optout 08000839402 mobileupd8 orange bluetooth sonyericsson motorola update_now mins xmas offer 1000 double nokia on latest or call txt free',\n",
       " '08717205546 regalportfolio further rp176781 discount services stop messages uk www reply co code customer your is here to',\n",
       " 'uniform where get wat in',\n",
       " 'ready cool re when me you text',\n",
       " 'cuddling wish woke geeee boytoy bed hello were love just miss me with my up you and here already in',\n",
       " 'spoil bed well will as you in',\n",
       " 'bath min gt lt msg going next will for you',\n",
       " 'willing agree talking cant keep people them price buy much am pls tell sure what are really can pay if how want they me not you and so to',\n",
       " '09057039994 gbp t91 reference calling unsubscribe anytime order services by charged ringtone thanks can at will be on customer your per for you week',\n",
       " 'happen what can you say',\n",
       " 'recognise seen face could did have me you',\n",
       " 'heron ptbo bars sighs lindsay happening blue years things lot something new well of going on the has not some and there in',\n",
       " 'brings rinu payasam keep if my there',\n",
       " 'mistake prabu project verifying hes becaus taught ranjith told called sir pa sms that dont today about me like so only',\n",
       " 'followin reason relax ovulation guide tests slow quite repairs body itself keep shouldn must worry guess nothing said but why sure know ll re we worried just when first that way will take ve on the your they is up you and it then to there',\n",
       " 'wallet couple minutes track give yeah sure down me my to',\n",
       " 'leave care big deal take not it hey',\n",
       " '945 late ah meet at will be you hey',\n",
       " 'n9dx phones 6months call2optout 08000839402 mobileupd8 orange bluetooth motorola txts mins sony double nokia on or call and free available',\n",
       " 'licks owl mr took it',\n",
       " 'place will call customer you',\n",
       " 'mm time that dont you fun like',\n",
       " 'or2stoptxt 08000938767 mobilesdirect rental 4mths phones orange line 11mths phone price half on camera latest update had call your now to free',\n",
       " 'having yup eat lunch my now already buffet',\n",
       " 'huh fr late dinner so',\n",
       " 'kickboxing pilates intro sat too we are going this the or for hey so only',\n",
       " 'morning can ok only',\n",
       " 'shut days lap office didnt few last thats am but room down that yes on the is my for think so in',\n",
       " '30ish bout pick time what are going that up you and',\n",
       " 'period current calculated performance two every award one after month from the not is for here',\n",
       " 'rock actually might wake sleeping sis gr8 wen was when will call is send still you back and so text',\n",
       " 'picture facebook ass pictures put business putting met ever violated hurt open people would one most of out why room are always feel make ve on the your you think there',\n",
       " 'india visitor sometime inshah god grace sharing wahleykkum salam al tayseer tissco rakhesh allah evening joined offer sir good happy hope by of an are meet news fine from the you and got',\n",
       " 'administrator quickly field change system hmmm wanna get but da want the or network to',\n",
       " 'nd eå 150pw 3xå 1st 2814032 tone poly 87131 tones 0845 true stop after get ringtone are first help 16 or for txt text to free',\n",
       " 'chechi dear her did how talk is you to',\n",
       " 'shipped cream hair the has not been',\n",
       " 'none happening til get of that you though here',\n",
       " 'starts burning tree loxahatchee yep hour xmas gt lt of an the great in',\n",
       " 'stoners haha lot driving used get man of know usf to',\n",
       " 'stay wld darlings fav pm disastrous slightly coffee off late same good place class time well hope tomorrow was always can day this be all as with my ok until',\n",
       " 'drink fancy something good later hello or week',\n",
       " 'busetop headin towards',\n",
       " 'fullonsms sender number via everything missing sent lot thats name com message date is some text',\n",
       " 'iron plan come weekend by out room we can at our this the for some so point',\n",
       " 'thing cos want be your it to',\n",
       " 'blah den skip jiu yan okies oso mrt one too ll we can ard cine go',\n",
       " 'wendy bring home some',\n",
       " 'box334sk38ch 09064012103 dating cal service 100',\n",
       " 'whatsup sleep dont want to there',\n",
       " 'goal new alright have now',\n",
       " 'txttowin 80086 competition 250 weekly into 18 uk just www our co the word now text win to entry free',\n",
       " 'head minutes few where out ll meet alright me you text to in',\n",
       " 'ads txtno pobox36504w45wq yahoo 07123456789 eve adam mobno name2 name1 heart names logo lover joined by love eg 87077 ur 150p send no txt to',\n",
       " 'itself taking last live yes from call week',\n",
       " 'pobox12n146tf150p 09111032124 contacted dating phone fancy because landline entered service someone find who out our from call has your they is you and it to',\n",
       " 'aha hostel siva is in',\n",
       " '3030 land 09058094455 number line 2000 12hrs guaranteed awarded urgent from mobile valid call claim prize has your with been only',\n",
       " 'irritating funny attractive attitude ful rowdy sentiment expression speaking voice childish romantic lovable shy something gt lt of ur naughty how reply this about friends me is my send and receive to',\n",
       " 'guess she ll be ok',\n",
       " 'aathi dear where are you',\n",
       " 'urination thing else any pain on',\n",
       " 'lift giving mind esplanade cos car do ì_ at today me no got',\n",
       " 'amt arng source lacs shortage hv vry urgently bmw wnt prob buy thats dis gt lt of but car its urgent is my no to there',\n",
       " 'tv lor watching at home',\n",
       " 'respond fucking fifteen minutes usually she does yes take or no question to',\n",
       " 'wc1n3xx ldn bcm4284 300603 vary 3mins 09066382422 3650 post phone video 150ppm ave close congrats calls nokia 16 cost from camera mobiles call your is',\n",
       " 'ticket booked pongal for',\n",
       " 'th hillsborough gt lt amp right you like now around available',\n",
       " 'shoul dollars askin sent gt lt pay message the or is for',\n",
       " 'ten iouri told story ask times ve the or like already',\n",
       " 'applebees fucking long does how take',\n",
       " 'gd hasnt journey mins late hi get hope this about 50 now been think txt',\n",
       " 'arrange but love have like and to',\n",
       " 'tough sachin cricketer bhaji kallis told after very best get out really yes is he to world great in',\n",
       " 'supposed wake gt were me up you to',\n",
       " 'group din tot oic found liao him saw too but me he',\n",
       " 'later sorry ll call',\n",
       " 'gorgeous howdy monkeyaround monkeespeople werethe we hey say',\n",
       " 'died battery come where sorry place gram by but getting can your my for now only',\n",
       " 'kinda exercise blimey wot hmm well done yeah that remember is',\n",
       " 'concentration mind everything dear get know are wont my you and',\n",
       " 'plans made years new lol have for you',\n",
       " 'min 10 later',\n",
       " 'lotsly hanks',\n",
       " 'good hope thanks day today this had for you',\n",
       " 'acc transfer detail what are enough want you no to',\n",
       " 'improve optimistic tough stay things her month tell but out yeah we are its will this been to ok',\n",
       " '1956669 refused previously welcome tenants homeowners 75 purpose loan 500 0800 any we can help 000 or call have still for you back been text free',\n",
       " 'truffles oreo si ill those make think go',\n",
       " 'donåõt woman intelligent beautiful ure amy worry lot look know that at me like and so',\n",
       " 'ttyl ears links practicum asking kind consistently result intelligent start keep open him best hope of being that about the all your you and',\n",
       " 'bad isnt ya guess which need love that miss cost 20 want call',\n",
       " 'heal individual coping decisions wavering feeling different thru everything believe same very time going will the with is up and',\n",
       " 'stay die phone where did gonna have is my you here to in go',\n",
       " 'reasons gives god each better never thank day more even been to great',\n",
       " 'opt july 26th 9153 153 0207 upgrdcentre orange ends loyalty upgrade phone offer out on camera call claim customer your for you now apply may free available',\n",
       " 'bye later sorry ll call ok',\n",
       " 'railway am way on the to ok',\n",
       " 'enjoy position fave style doggy oral receiving princess giving making night gt lt love how times about per is my you and great',\n",
       " 'slippery roads put keep over getting that from stuff on the they it don to there',\n",
       " 'bike ride are when going your you to',\n",
       " 'jus rain stop need yup wait ll no',\n",
       " 'language many company tell are the me there',\n",
       " 'cw25wx box326 sae tcs 09061743806 tenerife notice dave okmail collect award landline holiday 150ppm dear 5000 from cash this or call your is final to',\n",
       " 'screamed princess long since how has you been it',\n",
       " 'details 9ja charges differ banks removed transfered flat remove enters dollars meant person trust bank also sending account cos nothing someone once money gt lt sure are that its will be the your my you and here so rate to got',\n",
       " '69888nyt moan 31p ec2a txting largest join direct locations dogging laid sent real mob get msg by uk ur 150p tonight want the network to',\n",
       " '9t wise infront cum broken heart line plz other trust once nice said good again by of ll times more me don',\n",
       " 'fifteen head minutes gonna up like usf to ok in',\n",
       " 'aathi lot love you',\n",
       " 'machi tension problem any ah what',\n",
       " '8th another pick done re can when up you',\n",
       " 'mcr thinking guys staying said were re getting when about not for you back',\n",
       " 'sec almost see there in',\n",
       " 'asking few working carlos yo weekend are at this about friends all me you already',\n",
       " 'tv lor watching',\n",
       " 'taste thing baby cant real wait thank the you to',\n",
       " 'falconerf thuglyfe jaykwon fb change should your you to',\n",
       " 'side long time we really its if for no win',\n",
       " '07781482378 visit conditions terms activate 500 messages replying by com message www this the your with for word text to free',\n",
       " 'railway happen dear reached what you to',\n",
       " 'ralphs glory faded boye depends quality type sent maybe if about want on the you then',\n",
       " 'fixed test can message ve send you it think',\n",
       " 'trade dry shit card account would buy sorry half could man we if credit want or with my you some back',\n",
       " '150pm 5we ip4 bx420 etc starwars3 matrix3 suprman 09061209465 yours pass cinema special year congrats out miss dont call all is for now free',\n",
       " 'meeting later sorry ll call in',\n",
       " 'reunion class gt lt of what',\n",
       " 'are can call you now free',\n",
       " 'meh when got',\n",
       " 'monday nope replied late sorry will on for it think so go',\n",
       " 'accenture true told them confirm of not is some it',\n",
       " '7ish center rec jackson before kate right',\n",
       " 'reache dear room have',\n",
       " 'dificult some1 fightng lose either fighting easy bt close who if the or with is still win to world',\n",
       " 'come out can when ì_',\n",
       " 'nuerologist check with',\n",
       " 'water fish lolnice went from to',\n",
       " '08718727868 b4280703 09050002311 1450 123 competition cs congratulations 150ppm draw stop 18 sms over just won this the call claim prize have week to in only',\n",
       " 'outside bored watch dat tv cos nothing waiting wait car do can at stuff home or my no it wat got in',\n",
       " 'near village park hyde westshore house place maybe the or my',\n",
       " 'rent fees bringing anthony should friend school thats money need why know are pay that how help ve stuff your you like and now so to in',\n",
       " 'significance what the',\n",
       " 'simple stylish matured character spl silent kusruthi jada opinion lovable pls over reply about your me not',\n",
       " 'ak ammo scrounge new give can try if at want latest the still up you some and to there',\n",
       " 'sory frm realy soryda prabha heart',\n",
       " 'forgiven lol your ok',\n",
       " 'tat jst change no only',\n",
       " 'mtmsgrcvd18 ldnw15h ibhltd 83355 mp3 ipod 40gb phone collect 500 player guaranteed nokia are 150p latest the or prize you word no txt to',\n",
       " 'competition him for no',\n",
       " 'toxic jamz slide cha poly3 mono boltblue poly slow tones stop come yeah eg reply 150p more or me with for txt',\n",
       " 'tgxxrz pin renewal bubbletext topped credits com http www have your is for up been',\n",
       " 'fri booking nos definite bday problematic less transport sat than join night ask need by but know that feel way if want on the as is my to free',\n",
       " 'abnormally behave adults children unconscious person usually but ll just that the call they is you now may in',\n",
       " 'elsewhere ebay less might but that be on it',\n",
       " 'pickle shall come get to',\n",
       " 'tacos get were gonna some go',\n",
       " 'campus rude very that on you',\n",
       " 'box95qu 9755 872 0871 attempt 09 02 03 caller contact bonus awarded 2nd was our urgent 000 this on mobile call prize your is you no to',\n",
       " 'mas enjoy christmas merry hi but do ard won',\n",
       " 'unsub sub 00 08717898035 offers member savamob 85023 150 discount cs vouchers offer worth of ur yes reply 16 today mobile claim now text to',\n",
       " 'single lady pretty yes how is you like',\n",
       " 'pg teletext channel 24hrs within recieve conditions terms tone 750 see please next will the your for you and',\n",
       " 'faggot jay says double re that you',\n",
       " '04 41782 08718738001 redeemed un 800 07815296484 2003 expires identifier points statement account private shows 18 11 code call your for',\n",
       " 'holiday what work sunday today is no so',\n",
       " 'practice gudnite tc going on',\n",
       " 'late ll be',\n",
       " 'bani malaria l8r hoping while called big guys especially give pls her was know we love that miss day ve this have not is my you and it so great in',\n",
       " 'sea across kiss passionate leads boytoy afternoon job good maybe hope of love that how day from on the my send you some and goes think got',\n",
       " 'probably while later lt see tonight be gonna for you here',\n",
       " 'buttons these fingers fat maybe doesn what know do just or press all my and it to',\n",
       " 'returns ummmmmaah many heart birthday dear happy sweet of day my',\n",
       " 'tirupur office started once am da from call me you in',\n",
       " '2stop age16 web csc max6 50p monthlysubscription applausestore stop msg month com www from txt',\n",
       " 'married confidence self temper losing unconditionally listen ability develop quote famous without means anything are when the or your you it to',\n",
       " 'self college ill else pa come am but what do are going it to there',\n",
       " 'bash mine oclock flat plan out just at to',\n",
       " 'cooped rather recovery while stay having id girl bed pass time need out doesn does this be not up fun then in',\n",
       " 'any special then there',\n",
       " 'weddin bloke english cali invitation hotel apologise come get sweet need but know just had me is my for you some now to got',\n",
       " 'omw long took sorry that now so',\n",
       " 'min gt lt wait',\n",
       " 'cutting alibi btw minutes hair give whole time see her were re the me my you think ok',\n",
       " 'cuck owns reminding surrounded cock cage paces through sink while water enjoy put having imagine into before finally bath also after maybe get who by of but left always eat that feel on the have your me my even for you to',\n",
       " 'three deficient hurry days weed ve for up like been',\n",
       " 'fo oath blood demand faggy generally tactless astoundingly acknowledgement get sure an that if from you and it to',\n",
       " 'loose magic milk warm drink every bath weight night need see of work know ll just that take still you and so cup to ok',\n",
       " 'likely silly perhaps cheap pan book case isn look ll frying that at be the or have no it to in',\n",
       " 'thesedays essential sunscreen mutations causes uv well is like',\n",
       " 'online having why are lunch not you in',\n",
       " 'told friend know that my already',\n",
       " 'pics pretty princess very hi are how thank the for you',\n",
       " 'gee sugardad bao workin fast mei aiyo huh ex dunno abt haven one ah lucky time by she always first ur our reply not so got',\n",
       " 'office hi msg me in',\n",
       " 'brownie thanx nice it',\n",
       " 'barely geeeee stand much love can you it so',\n",
       " '150ppm 12hrs k52 09064012160 shows draw weekends last contact gent guaranteed 1000 trying we are that won valid code call claim prize you to only',\n",
       " 'fuck towards babe money crave need know let can miss net want your me send you some already',\n",
       " 'jen callin freek american icky ninish 2mrw bad ill address stop that eh at wont call me with my',\n",
       " 'ey ridden oooh thinking bed of what are you',\n",
       " 'smiles whatever gym having anyways much babe good hope love just can miss day or your my you and already so to ok go',\n",
       " 'dick scream daddy ass slap pleasure am love going make will your with my you it to',\n",
       " 'missy wot wanna do then',\n",
       " 'clean sch mum yar stay quite hee morning whole wait room lor lunch finish at home have my now then',\n",
       " 'goggles lab went where know do my you',\n",
       " 'door open can the you',\n",
       " 'waiting call your for',\n",
       " 'sch daddy nope waiting in',\n",
       " 'call09050000327 won 000 cash or claim prize have you to',\n",
       " 'arguing tired same after of what ll do from this about want on the with you and now week',\n",
       " 'sch ìï wait ard finish me in',\n",
       " '09050005321 claims number line hot ring 5000 calls us our won on the or mobile claim has back to',\n",
       " 'bite sayin frnt dancing bites snake unfortuntly walkin marriage arngd while bt of amp love me is in',\n",
       " 'izzit outside huh having dinner ì_ then early so',\n",
       " 'change anyway said need what with you no to ok',\n",
       " '08002988890 textand 150 phone mins 750 video offer contact new tomorrow delivery tried of re we our reply or call your for you now to free',\n",
       " 'kids wife ex able one was do day want have not my you to',\n",
       " 'tendencies jjc care showing dream hope live over are scotland how take the your not you so',\n",
       " 'headache hour them time of tell sick just use want have and to',\n",
       " 'em yogasana jazz quit den lessons oso hmmm thk yet after ll we meet can our dun go',\n",
       " 'gotany hardly meive pete ring please can credit you',\n",
       " 'yi srsly than ya better tho',\n",
       " 'meeting later at call me in',\n",
       " '1x150p 08715705022 80878 spree 250 custcare chance shopping shop wk ur com www for txt win to wkly',\n",
       " 'promo ag 10ppm lines 08712402050 pound cs before award 2000 specially close 16 cost the call selected have you been apply receive to',\n",
       " '24 42478 08715203677 07753741225 04 redeemed un 800 2003 expires identifier points statement account private shows 10 code call your for',\n",
       " 'prix grand at still you',\n",
       " 'nitz stands met stranger friendship ends lets choose friend gud long forever never our be the friends as my you and world',\n",
       " 'am are how you great',\n",
       " 'mrng gud dear nice day have',\n",
       " '0825 542 announcement important freephone 0800 service an call have customer you now',\n",
       " 'pie train exhausted sleep wine much morning well too was do will this on you and',\n",
       " 'ar present mum buy out going to',\n",
       " 'ocean indian swimming stopped rajnikant occur tsunamis blastin mind will from on more no now in',\n",
       " 'ready sending yet her lor first if home not it ok',\n",
       " 'speaking yet any of does cash have he',\n",
       " 'noon after come happy will be there',\n",
       " 'after meet lunch la',\n",
       " 'care get well take soon',\n",
       " '07880867867 07946746291 ladies roses paris nichols zouk speciale soiree 28 2morow clubsaisai xclusive info from all with free',\n",
       " 'banter bridgwater bored meant cant see again of wait what getting this is say to',\n",
       " 'neva mind it ok',\n",
       " 'somethin imma drink come find get fine want or me you it to',\n",
       " '83222 daily results euro2004 22 removed days kick off stop kept get news date will be latest the with send for up and txt to',\n",
       " 'suits ques answers game valentine loves someone same dis rply which best msg really ur its if colour the friends all me send then to',\n",
       " 'dependents many have',\n",
       " 'often cer thanx4 care ave nice find time well but was we catch oh take today soon more up it',\n",
       " 'future choose called him said this have all and he then to',\n",
       " 'uncles aunties beauties handsomes hundreds 1st wish valentines off happy thought of but know finish its day have and early so to',\n",
       " 'reaction leona shuhui shock leh dat liao also cos abt almost telling ask know lor ur all me not is like he got',\n",
       " 'happiness family my for',\n",
       " 'immediately come pick lesson out aft ì_ ur up',\n",
       " 'grow friendships together weather snow kind brings ppl of let can this be so there',\n",
       " 'dollars dear hi gt lt we got',\n",
       " 'dismay many leave good but times words may in',\n",
       " 'concerned alex fifteen minutes far birthday sure re over knows make his as is you in',\n",
       " 'pub few things later sorry do be have no may to got in',\n",
       " 'useful drinks bud bring actually than straight little something just can that if cash more or you it nah',\n",
       " 'market paid officially 8th haha hear good an on the for and to',\n",
       " 'pop tootsie center many licks get of does how take the it to',\n",
       " 'darren longer face teacher thk short cut said ask look yup too that make will they me not my',\n",
       " '89693 gaytextbuddy postcode 25p area textbuddy horny guys chat search one new just ur name com at or txt receive to free in',\n",
       " '09064019014 matches 4882 vodafone number award 350 ending numbers todays are if call selected your with receive to',\n",
       " 'hi please that dont like say',\n",
       " 'thank',\n",
       " 'forwarded thought was that oh message me send you to',\n",
       " 'ûò ml hundred seven seventeen hope pounds for it ok got',\n",
       " '80062 ts expressoffer tlp pc weeks holder voucher texts cs offer dear stop uk http at www this co claim your apply txt to go',\n",
       " 'funny him me so',\n",
       " 'biola sweetheart reasons kind having loads smile one hope of are that day have with not you to',\n",
       " 'fetching dad login dat time when ì_ home now',\n",
       " 'baby shower what we do will the in',\n",
       " 'before answer askd its had hours some question',\n",
       " 'thanksgiving restock imma definitely before well need out know let ll when you to',\n",
       " 'brighten effects sound kiss kind gorgeous person needs isn smile said man who of do can his day the is he to',\n",
       " 'wee probably swing bit by gonna in',\n",
       " 'thursday ready ya very nice be on',\n",
       " 'jolly triumphed trains taken braved allo buses rest mean ham good of re we on the have and week in',\n",
       " 'church temple listening cartoon eve music what amp watching at about had to go',\n",
       " 'uncomfortable mind happened ask what do dont if have is you it say to',\n",
       " '31 40533 08715203694 04 redeemed un 800 2003 expires identifier points statement account private shows 10 code call your for',\n",
       " 'email prob will your send no to',\n",
       " '3ss sw7 rstm call09050000327 150ppm won 000 cash or claim prize have you to',\n",
       " 'rough sonetimes gentle slow sometimes hard cool thats and',\n",
       " 'tuesday panic starting normal would sorry time am seeing again but are about gonna on as you no say to',\n",
       " 'drugs hella bet town wesleys she wait does know do if you in',\n",
       " 'much very miss fine you',\n",
       " 'story persons that did got',\n",
       " 'impatient dealer drug them tell getting the',\n",
       " 'evng river cloud earth sun rays care cant luv gud rain come msg but meet can as my send to',\n",
       " 'place man of that will be the you in',\n",
       " 'wikipedia unless sense doesnt need know its if make com take more you it to free there',\n",
       " '08718711108 premium 89034 88800 phone services are call and',\n",
       " 'paper envelope lays under sea rock an are words on the is there in',\n",
       " 'repent mum how then',\n",
       " 'fetch daddy come later sorry first ì_ going home me',\n",
       " 'prepare de leave start next for it',\n",
       " 'sutra kama positions baby study of we can yes the all',\n",
       " 'kalstiya bakra nange en chikku coffee msg tea had then',\n",
       " 'minute carlos buy need ll if be still you here to in',\n",
       " 'lakhs decimal gt lt pay this is',\n",
       " 'ttyl evening good have',\n",
       " 'msg did my receive',\n",
       " 'laugh belly ho big ya tomo see',\n",
       " 'seem posts sun0819 cool ac sms hello you',\n",
       " '08452810071 opt 1st tone tones phone every gr8 top wk stop get msg ringtone out just ur reply 16 20 this your per with 50 send now week to free',\n",
       " 'peace saying ditto whatever last worry night same said anything ll do won anymore about want the have me you like and to',\n",
       " 'any pick could gt lt way ve up got',\n",
       " 'knw milk drink pa just dont',\n",
       " 'wetherspoons card escape hi find maybe out if his or and say to got great',\n",
       " 'awake piggy bet sleeping re lunch going still now',\n",
       " 'freaky cause lol not',\n",
       " 'lonely scrappy yelling cause come missed was wait can miss at today home call your for so to',\n",
       " 'explain hex place of what this talk is you',\n",
       " 'sdryb8i off log ìï it wat',\n",
       " 'xy lunch going is',\n",
       " '150ppmsg 1da g2 textoperator 89555 bedroom sex lapdancer sue years old hi 18 am by live work love 20 as me my and now text to',\n",
       " 'hour finishes lect anyway cos ask wanted wait an finish ì_ me my to in',\n",
       " 'yet finished work have you',\n",
       " 'tomorw imprtant map building crying king baby reach wil every ni8 gud once where but was today not and great',\n",
       " 'ans engaged tmorow accordingly bfore cochin cherthala shall case reach start coming also holiday dear which am pls tell its at day or call me in',\n",
       " 'bold torch am thanks doing but love or',\n",
       " '08712404000 448712404000 forwarded immediately waiting please an message urgent from call as is for you there',\n",
       " 'farm open was the',\n",
       " '1843 1680 1405 4d sun dad sat small thanx big buy trouble sorry again can all my for to',\n",
       " 'law saying having sister hope abiola month are just my you hey great in',\n",
       " 'purchase number box po mail do will today stuff have you and to',\n",
       " 'gpu looks poop fixed problem laptop ill cuz prob ah get have has my send like it to in',\n",
       " 'entrepreneurs job good like',\n",
       " 'alex aight close place by down or still you around',\n",
       " 'û_ gap corporation outside mind st working see meet can how is my you in',\n",
       " 'mum food buy ask ì_ home to',\n",
       " 'also msg dont his reply or to',\n",
       " 'willing much pay ì_ how to',\n",
       " 'later sorry ll call',\n",
       " 'fluids dehydration prevent giving important her by what that enough is you',\n",
       " 'idea weird pub supposed happening thats good where bit but sure do will be the they is even to in',\n",
       " 'sat true evening pray felt dear time sms you some and so to in',\n",
       " 'trek away town family long sorry get can that with for think don in',\n",
       " 'harri gym wanna do when you so',\n",
       " 'drivin quite anyway late wun ard 12 lar',\n",
       " 'alerts newsletter cnupdates deck gage fantastic game club unsubscribe keep review nokia out com www reply from the with word and to go',\n",
       " 'or2stoptxt 08000938767 mobilesdirect rental 4mths phones orange line 11mths cs phone price half on camera latest update had call your now to free',\n",
       " 'hurried dey students ws aftr aeroplane sit calld wer professors aeronautics height confidence sat made didnt told dat their bt askd plane said move by of out amp an if the all they is my it he in only',\n",
       " 'attributed shitstorm timing seems weird smoke coming everyone making night same come over always just when that day want the all as me is for you like and it to',\n",
       " '7pm 08714712388 10p 10am between cost',\n",
       " 'dorm stress details person sent account money save yourself just if will be the has your send you and to',\n",
       " 'also menu know knows lunch da about he only',\n",
       " 'sell tell ll when stuff have you to',\n",
       " 'maxå mobilesvary callcost csbcm4235wc1n3xx 050703 b4 09071512433 1250 449071512431 attempt 150ppm contact 2nd won urgent this the call have is 50 to',\n",
       " 'px3748 specs sth book after which get lesson msg work going will membership or call me is my up you then to',\n",
       " '08714712394 7pm yr 2000 guaranteed 10am between representative service 1000 our won cash on or call claim prize have customer you to',\n",
       " 'mindset assume upset macha plans anytime both evening believe begin life one again of us let can dont feel wonderful call have your me with for some and',\n",
       " 'address oh the me is send it',\n",
       " 'anytime best fine the all with it',\n",
       " 'flim wondar full that is',\n",
       " 'jelly cookies ya those them on have even',\n",
       " 'correction mad admit running feeling lets also keep life run same where maybe am let are this be the or call have all me with is still and it then so may to world',\n",
       " 'wants scrumptious looks daddy long night eat all you it to got',\n",
       " 'dao ba fri pm cos would ah said where never ask of but we can lor will today on not he so lar ok go',\n",
       " 'half8th omw change order gotta alright my to',\n",
       " 'visiting jide exactly far study anyways her just how or is to',\n",
       " 'dunno ask me',\n",
       " 'drvgsto prescripiton low 2kbsubject stewartsize jeri alertfrom email listen 123 cost call to',\n",
       " 'yay spring coming didn is no he early',\n",
       " 'steak bad money her out dinner lol when feel use take won you to',\n",
       " 'neglect twice while read tel msgs him trouble once get convincing just dont his reply or even and it in',\n",
       " 'prayers add opportunity fast rakhesh tonite leaving qatar went dear search pls of an ur all me to in',\n",
       " 'talking one why me no then to',\n",
       " 'appreciate looking thanks out really me for',\n",
       " 'mtmsg ctxt 4t 81151 txtauction nokia6650 loyalty start tc offer hi 10 yours new get at 150p from the mobile customer word no now txt to only',\n",
       " 'wish were with you now',\n",
       " 'attached gals faster rite mayb feeling group gd liao haha someone one find liked well by of being know re lor da our all me is then in go',\n",
       " 'glad made yes will be you it there',\n",
       " 'thing little good time well ahead of do times will all for',\n",
       " 'wahay realised shouted clocks hadn û_ put hour til everyone another bed very get of out was room just at soon be the have up back and it then to got in',\n",
       " 'gym about be may free ok there',\n",
       " 'eyes gaze shorter ladies into men his up like',\n",
       " '930 dunno jus lido same time he say go',\n",
       " 'pics princess ttyl chance care run good get please of when take promise have send you now to',\n",
       " '08706091795 helpline 82324 subscribed days content service stop 10 best uk are the mobile per send for you to in until',\n",
       " 'spoken reason exam anyways year best we ve this the have all your not is and week there great in',\n",
       " 'gist monday full give by next the me week',\n",
       " 'tattoos thousands 40 realize running ladies years old of ll we do that about have with you around in',\n",
       " 'premier announcement important service an from have customer you',\n",
       " 'caveboy lip gimme that dont',\n",
       " 'library get when did the you to',\n",
       " 'confused realy recognise number sorry am who please this and now don',\n",
       " 'holla didnt why you so',\n",
       " 'spare anyone head off cant top of room with my think',\n",
       " 'possible makes faith three beautiful christmas merry things hope work love this have all you may',\n",
       " 'made should appointment an have',\n",
       " 'acting vibrate texts phone might carlos hear are when call me not is my up you and here',\n",
       " '08704439680ts 79 paris cs book romantic nights flights year next from call now apply',\n",
       " 'hungover grandmas sat leave shit ill felt dear night another morning am but we are just oh at this on still think then',\n",
       " 'mobypobox734ls27yf 50pmmorefrommobile2bremoved m39m51 claimcode closingdate04 09066368327 unclaimed 09 02 500 award guaranteed ur urgent call is still now',\n",
       " 'yest faber mt gua ba tot jus went mah cos would nothing ask but out we lor going today call not already so',\n",
       " 'wishing family mas merry advance year new happy your you and in',\n",
       " '50perwksub tscs087147403231winawk skilgme 88039 store summer city spree age16 200 shopping break every wk awarded could ur and txt win to',\n",
       " 'tis wonder meetin goin somethin unless nt haha time who dinner lor will on they got go',\n",
       " 'later sorry ll call',\n",
       " 'phone cant pick pls message right the send now',\n",
       " 'inch drive apparently closed schools dramatic snow supposed get tomorrow of were know re we lol can the they for already so to in',\n",
       " 'hunting damn anywhere job over getting this with not here',\n",
       " 'wats drunkard moment plan hair doing yeah lol just at tonight the my still up',\n",
       " 'weaseling idc twice row shit get of out over are way this your not you here in',\n",
       " 'space minutes wil any gt lt be with got there in',\n",
       " 'surfing sleeping just and',\n",
       " 'trash picking thanks the for up',\n",
       " 'begging smokes smoke friend spend because him much come tell too live why sure re want hours your with not you he don then to go',\n",
       " 'sing lovely card phone guy kate ill gave hi tomorrow see was its his tonight me xxx you and it to got',\n",
       " 'wishing happiness number dear year new happy abiola decided do really just miss this your brother my send you and text to got only',\n",
       " 'door means get that the',\n",
       " 'simple stylish matured character spl silent kusruthi jada opinion lovable pls over reply about your me not',\n",
       " 'punish slave hmmm should late said thought we are how hours not you',\n",
       " 'beerage',\n",
       " '0578 premier 542 announcement important freephone 0800 service an from call have customer you now',\n",
       " 'opening randomlly within 5min off turns of dont like it think so',\n",
       " 'couldn town supposed but she was make be still it though to in',\n",
       " 'diff spelling fixes figure own completely sometimes gets time most of but does its on the my word it go',\n",
       " '100p community perfect living ever partner age join life good thought sms just name about the mobile with back and txt to',\n",
       " '08718727870 pole 81618 subpoly tune toppoly 087018728737 polyphonic unsub tones every top sent get just national call per week rate text to free',\n",
       " 'hav mrng gud dear nice day',\n",
       " 'thot bein fondly enjoyed game hoping off touch yesterday sorry abiola pls but know are that ve this have your not is you week been great in',\n",
       " 'tmr driving best ur all',\n",
       " 'jan sounding dogbreath al where just its thatåõs at like',\n",
       " 'woohoo weighed omg scream lost weight myself want more and to',\n",
       " 'pieces dictionary uncountable generally research noun isn one of an the it there in',\n",
       " 'hanging getting really just down me it around',\n",
       " 'availa 14thmarch 9996 opt 153 0207 orange ends loyalty upgrade phone offer out on camera call claim customer your for you now apply may free',\n",
       " 'nic canlove thekingshead friendsare whereare petey boy come down if all your me you and in',\n",
       " 'b4 leave house msg my ok',\n",
       " 'gimme ago minutes few gt lt was',\n",
       " 'm263uz pobox84 sub 00 offers savamob 85023 150 discount chance cs vouchers shop worth last of ur 16 today mobile claim now text to',\n",
       " 'appt twice listen fault told time gt lt am at not is my don',\n",
       " 'norm150p w45wq 36504 getzed mates 8077 no1 1st tone every txting get nokia uk tell just ur pobox www 16 co mobile for and week txt to free',\n",
       " '4jx rg21 php 88222 getstop 08000407165 cashto 200 award guaranteed stop 18 1000 ur won on or call claim have even you free',\n",
       " 'before ll be there',\n",
       " 'imp 3d dled very its',\n",
       " 'smokin ain yet but sure we knows make he',\n",
       " 'boooo quit work always just you',\n",
       " 'bec leave taking half am well day not',\n",
       " 'ugh warm bed wanna get of out it don so',\n",
       " 'nervous gt lt',\n",
       " 'hint yowifes gift costumes future ring guys their comes can that the they with it so there',\n",
       " 'gift either weekly com1win150ppmx3age16 ldew tncs 87066 music vouchers cd congratulations 500 draw awarded of ur www our 100 txt to entry free',\n",
       " 'bag borrow ur ok',\n",
       " 'notifications smsrewards bid plyr shinco simonwatson5120 outbid visit dvd end ac sms again by out were reply on the',\n",
       " 'boytoy happened where what miss my you',\n",
       " 'youi model ones bring lots match used babe of but doesn ll over help the have has up and it he to',\n",
       " 'dobby galileo bringing also are or you',\n",
       " 'responding why not you then',\n",
       " 'xxxx loveme soonlots 2u iåõllspeak hunny gettin yourjob enjoyin boo ure care babe seemed well hope of take on ok',\n",
       " 'teasing cappuccino sips ache starshine fuck kiss boytoy yet afternoon babe good crave does miss how me my you he to',\n",
       " 'road cant on the so txt',\n",
       " '9ae cm2 220 08702840625 extra 3qxj9 comuk yourinclusive smsservices login charge credits unsubscribe goto stop pls help net www with for no text',\n",
       " 'profit 08701417012 zed polys nokias 8007 charity m8s moon alfie 25p children tone poly song mob need tell ur on or for txt to in',\n",
       " 'ttyl evening good have',\n",
       " 'bits pieces sighs hmm lol and',\n",
       " 'brain hahaha dear use your',\n",
       " 'mail any you hey got',\n",
       " 'green turned light meant worth friend another sorry gt lt wanted but be not around he may',\n",
       " 'mojibiola burial enjoyed sir yesterday hope thanks wonderful the have for you been',\n",
       " '07821230901 cust 09065174042 opt care thinks reveal admirer secret recd stop special who msg out reply call have per 50 so to',\n",
       " 'rvx ages havenåõt hol rv mate roads stay off hav coz sent driving started hi nice hello just its did message so say in',\n",
       " '80062 ts expressoffer tlp pc weeks holder voucher texts cs offer dear stop please uk http at www this co claim you apply txt to go',\n",
       " 'aburo countin ultimatum given sura kz skyped enjoy days ago didnt company wit sent pleasure much good get hope of we are down when oh message thank ve this the your is you and so to',\n",
       " 'surely result offer will',\n",
       " 'successful dear good morning amp day have my great',\n",
       " '08002888812 five 150 phone mins anytime 750 video any new tomorrow delivery do reply pounds want or call network per for you and week text only',\n",
       " 'hence recession nag inconsiderate rent askin charge didnt few past able however sir paying felt would late something yourself end give gt lt am well ahead please month thanks of why can pay that at help wont cost this about be the months had have me speak my for up you and been it to great in',\n",
       " 'wed rental phone mins anytime 750 video offer contact price any new half delivery 08000930705 camcorder tried of re we our reply or call network for you to',\n",
       " 'sub 00 08717898035 offers member savamob 85023 150 remove discount chance cs vouchers worth last stop of ur yes 16 or mobile claim now txt text to',\n",
       " '2morrow understand soo donåõt ring luv much special how me xxx',\n",
       " 'comprehensive mail paying much who pls when how about me send and',\n",
       " 'mother prashanthettan away family passed pray last night her our for and',\n",
       " 'ppm 8wp sk3 collection await ibiza 09066350750 150 sae box cs po 434 landline holiday 10 18 complimentary urgent 000 from cash or call your',\n",
       " 'are when going you',\n",
       " 'realizes doug impress guitar playing samantha warning seconds xavier suite meanwhile jay shit coming also give gt lt decided her of was us live over that anymore the or is some and here think don to in',\n",
       " 'swear trauma stomach lose thru weight better much eat just can has my been so',\n",
       " 'matter office break whats am msg at will the call me you now in',\n",
       " 'shoes barely many fucking two later sorry man see of too yeah us room enough the has for you there',\n",
       " 'unsub sub 00 08717898035 offers member savamob 85023 150 discount cs vouchers offer worth of ur yes reply 16 today mobile claim now text to',\n",
       " 'wan reach orchard buy tickets first already go',\n",
       " 'tigress inner bring baby real am out want your to',\n",
       " 'version activate full run da that if the you no it',\n",
       " 'lovejen sn spk careful overdose probthat bettersn urfeeling poor baby lots luv ah hope of work xxx hey go',\n",
       " 'returned saying told story should order him stop re ve the not and it he',\n",
       " '83110 vip discreet worlds fall dating sexy service new could who most see love just meet make talk the or friends you and text to in',\n",
       " 'babe out going take your to',\n",
       " 'rto sathy ana hai office tomarrow decimal ill coming came after morning gt lt am ll we reply home be on me then to there in go',\n",
       " 'spoons okay is it then',\n",
       " 'tampa named somebody just did is he say',\n",
       " 'few min work going have now in',\n",
       " 'genius your is brother',\n",
       " 'connections whenever two hour hold guess sorry maybe get of ll an can or my you text',\n",
       " 'sort coz find time need out what bus did at stuff the is some to',\n",
       " 'lately corvettes lotta dude ive seeing been',\n",
       " 'approx 50pm smsco 09061104283 mystery records virgin cds supply yrs gift ts either 3mins cs congratulations guaranteed awarded of ur net www from or call',\n",
       " 'peaceful bunkers walls consider matter shit high important because guess same play never place but just that enough on your is and it here don',\n",
       " '07 41685 08719899217 xxxxxx 07808 04 redeemed un 800 2003 expires identifier points statement account private shows 11 code call your for',\n",
       " 'asap dob champneys prods trial user chaps birds posh put address ta need hello we can down your for you some and to',\n",
       " '0721072 rental line phone video xmas price 0800 find new half messages out what do how 100 about want on more call with for now text to free',\n",
       " 'saved hole philosophical officially ready wanna am well if at home be call so to in',\n",
       " 'understand american voice problem experience little good need but going its customer still no to',\n",
       " 'drop off ll when you text',\n",
       " 'nap cuddle ugh exhausted long just its take day want up and been to',\n",
       " 'shesil shakespeare otherwise atleast friend once yourself best gt lt miss will day this talk your with you world in',\n",
       " 'fixedline cr01327bt ntt 09064011000 travel 5k 10k drop voucher either vary box po 500 shop 150ppm till cost 100 cash or mobile call is you now it',\n",
       " 'castor something need see are you to in',\n",
       " 'mid played liverpool tyrone sp 82277 ansr country player dvd sony top quiz sunshine which know if 50 week txt win to wkly in',\n",
       " '09058094565 thinks reveal admirer secret contact looking special find who out ur make on call have they with is so',\n",
       " '08 stopsms 09065171142 thinks reveal admirer secret contact looking special find who out ur make on call have they with is so',\n",
       " 'mymoby doit downloaded reminder paid collect goto content tv http the have your not for you already to',\n",
       " 'training ear studdying getsleep midnight gibe curfew wanting lead woul knew giving few break til movie one after come get need see anything but out was always miss if times home gonna not is you and to',\n",
       " 'oil massages position fave baby lots give of what love use your is to',\n",
       " 'sup dude should again we go',\n",
       " 'usb mac permissions yoyyooo drive change flash know how my for to in',\n",
       " 'hussey mike unsold gibbs',\n",
       " 'able pa am but know dont talk not like to',\n",
       " 'sad failed quite leh ah short cut too she like dun',\n",
       " 'faglord unbelievable you',\n",
       " 'murder knew exactly wife time of she how the',\n",
       " 'princess ask why do you',\n",
       " 'thinking princess am what are about me you great',\n",
       " 'ie ctagg ctargg cttargg cttergg ctter cutter nutter you',\n",
       " 'bored dunno choose noe oso busy one msg too but she re really colour me it so ok wat',\n",
       " 'thus smoke shouldn class gt lt tomorrow trying doesn at be have and early to',\n",
       " 'happier grateful superb opportunity everything than means thought tomorrow an are that dont today want be have still to',\n",
       " 'having checking good hope are just you week in',\n",
       " 'experiment agents drop booked few things nyc boston them used year since whole hope was an just ve this me my it don to in only',\n",
       " 'thursday thing night out yeah sure work ll we it then',\n",
       " 'fml britney usher verify 85069 mix password simply collected waiting get ringtone be the your is and text to free',\n",
       " 'invoices outstanding several due three probably ago two worries coming things money work are did months have for and',\n",
       " 'teach possible where how is you and it to',\n",
       " 'wonder phone battery dead went babe tell love if had your you to',\n",
       " 'tobacco smell ain lovely bus this on and it',\n",
       " 'worst assumed taylor derek re we over worried getting the have all and here already',\n",
       " 'charles late sorry what reply about the up hey',\n",
       " 'bookmark nookii strokes libertines racal dizzee marley stereophonics lastest 82468 games themob flirt wap click from the or all with and text win to',\n",
       " 'greet grinule plus whenever once said give her she ll we have speak you it',\n",
       " 'stores oreos fudge white are in',\n",
       " '08712460324 peak 8p 5p 08709222922 cheaper gay sale male january cheap texts hot 10p chat min stop national from call now rate to',\n",
       " 'ym zaher sad leave them long come took happy see but was love left miss how words on had your my for you and it so to got',\n",
       " 'hurt sorry am you it',\n",
       " 'dieting pig sweets pissed nauseous cause planning any didn out was hungry eat can feel today all not and now week so to',\n",
       " 'having project meeting too but lor me not still now early ok',\n",
       " 'waiting am da call your me for',\n",
       " 'chip anybody carlos else ask could get we can if more in',\n",
       " 'reminder actually weekend was wonderful today about have send you to',\n",
       " 'wrong msging addicted iam bslvyl bcoz msgs people sweet see know are when that friends they my think don to',\n",
       " 'yck registered photo tmr gave driving them ah wanna meet when at your for you hey',\n",
       " 'ever him dont its talk my word to ok',\n",
       " 'wana see when it then',\n",
       " 'ashley ma number school pls can way on me send you to',\n",
       " 'hollalater avalarr shall fine will be have now it',\n",
       " 'rounds attend two reach went another but she did today home still to',\n",
       " 'blogspot magicalsongs blogging actually website deleted old com at my now',\n",
       " 'aftr chikku mins il gt lt wait send',\n",
       " 'slices ate diet ugh many yesterday of too but always pizza on and',\n",
       " 'kvb details acc give will my',\n",
       " 'ah come oh have all to',\n",
       " 'w1t1jy box403 ppt150x3 1million 88600 away normal money lucky give over claim prize winner your you rate text to',\n",
       " 'term alternative able yr friday find sorry hope do an really can going won this ok',\n",
       " 'wherever fro moments owo mo ore many enjoy wish congratulations wa happy re you and it to go',\n",
       " 'shoulders samus yet do have you so',\n",
       " 'campus near should time need what know ll when be have you it think to',\n",
       " 'sk38xh box334 ppm150 lux 09063440451 matthew collection await sae tenerife cs landline holiday dear 1000 complimentary please from cash or call your',\n",
       " 'jeans wear lor then dun',\n",
       " 'vomitin fever side any which since when',\n",
       " 'college are you in',\n",
       " '1yf hp20 528 09061749602 collection await sae tenerife box cs landline holiday 150ppm 10 18 complimentary urgent 000 from cash or call your',\n",
       " 'writhing least bleh stuffed pig kind made friday better pain yesterday of but myself its feel at not for up like and now',\n",
       " 'pockets voila paypal tons sell thru life someone coins money ll we if our have all back no it then so to in',\n",
       " 'medical places theyre safe lots hospitals of doing are and it to only',\n",
       " 'folks community enjoy opt company touch age waiting sms getting just name how 150p about the your with for back and txt to in',\n",
       " 'recently blown sorta rather couple weed blue off id also him looking of out times ve the not for and so text',\n",
       " 'expensive ogunrinde applying application secondary sophas scores ones schools less thinking few also sent school contact research one joke her of do are if cost on the had me is my for you and think to',\n",
       " 'photos useful cant see were wait how the you to',\n",
       " 'w1 tcr 14 114 cc maximize currently 08718720201 box 86688 po 500 balance msg ur 150p pounds cash is send now to in only go',\n",
       " 'lodging booked sat kb other lessons keep night ah need confirm what we are meet going our on the your for and hey already to free',\n",
       " 'dict ms chk belovd ur in',\n",
       " 'come time what that want me is you to',\n",
       " 'whenever lemme awesome know re you around',\n",
       " 'shb thanx lor ok',\n",
       " 'heavy feels carefully gravity against truth beautiful heart light read leaves someone night very good but when our is it in',\n",
       " 'bowl dobby also get car remember from your to',\n",
       " 'stories filthy waiting girls your for and',\n",
       " 'brand poor yar thing sleep tmr night one new sorry msg but room ll lor ur have now then so in only',\n",
       " 'magical simpler decision less feeling isn would life much could who decide but we love if be it then to',\n",
       " 'retired welp apparently he',\n",
       " 'natwest sort acc person bank sent confirm can right reply ve this the code is my you no and to',\n",
       " 'where',\n",
       " 'any time sure sick can take',\n",
       " 'valid12hrs m95 09050001808 800 land line todays shows draw contact guaranteed trying we are that won urgent from call claim prize have you to only',\n",
       " 'church temple listening cartoon eve music what amp watching at about had to go',\n",
       " 'christians site gymnastics chad full says yo wanna which class do take the is you',\n",
       " 'buzy much are this you',\n",
       " 'sell better ask gt lt her she let catch can if or me still for you and',\n",
       " 'noon menu night am sure know about not only',\n",
       " 'liking token necklace wife beautiful heart one thats come give see of but till wait what do can when that dont will want be call as me my for you back no and to only',\n",
       " 'aptitude willing class are for you to go',\n",
       " '15 sort house trying out that wont as is it ok until',\n",
       " 'rice chicken earlier racing horse ate wan yar mah eat lor today he so go',\n",
       " 'omw awesome haha back now then',\n",
       " 'closes shop thk yup lor so until',\n",
       " 'number account what your is',\n",
       " 'wrongly eh send lar',\n",
       " 'nxt biatch boring boggy borin crap ad thanx nite til without ya ave il time but was wait me with no hey',\n",
       " 'shall him talk to ok',\n",
       " 'notebook weakness hesitate before keep changed nothing second time of anything she sure what know we eat can that dont its if did day this be the or had has is you like and so',\n",
       " 'salary de gt lt can pay with you hey only',\n",
       " 'chocolate weed alcohol another need month and',\n",
       " 'talent potential days few started job get if will searching have and he great in',\n",
       " 'carpark eightish reckon town walk need by from be to in',\n",
       " 'rentl noline polyph dload java videochat 09063458130 videophones 3g mates games wid music yours congrats play mobile call your now',\n",
       " 'fuckin fuck time look what at the is up you think',\n",
       " 'dropped guess yo what just',\n",
       " 'minutes carlos mu says gt lt ll at be he in',\n",
       " 'office min gt lt will call you now in',\n",
       " 'loving together fuck kiss geeee year till wait know we can when miss next will about be all your you think already',\n",
       " '5wkg 6ph tech cres 382 66 61 65 bus8 ere irene 67441233 ubi yun wan 22 park 1st days one ah tomorrow look by ì_ if the call for say got only',\n",
       " 'sore butt sd ugh drive gotta from is my back to la',\n",
       " 'july 26th of',\n",
       " '5ish party 7am relaxing having ever other every night im hi good time get tomorrow most was we at day home the have up to',\n",
       " 'skirt stripes wan din ìï any come but lor ì_ up then to',\n",
       " 'blessed jesus miracle peace wish merry story hav xmas ahead msg month amp love the is',\n",
       " 'number her can have don',\n",
       " 'escalator change one again next it to',\n",
       " 'water yetunde run class pls can make on not you now it to ok in',\n",
       " 'helen charlie aunts beth quiet feels mo working lots happened lot very her just how at the have has me not is you and been here in',\n",
       " 'lect stop come pick get wait car bus aft ì_ ur if at me my back then dun lar go',\n",
       " 'aight again thanks out do comin will for',\n",
       " ...]"
      ]
     },
     "execution_count": 58,
     "metadata": {},
     "output_type": "execute_result"
    }
   ],
   "source": [
    "resampled_texts"
   ]
  },
  {
   "cell_type": "code",
   "execution_count": 81,
   "metadata": {},
   "outputs": [
    {
     "data": {
      "text/plain": [
       "((9650,), (9650,))"
      ]
     },
     "execution_count": 81,
     "metadata": {},
     "output_type": "execute_result"
    }
   ],
   "source": [
    "import numpy as np\n",
    "X_resample = pd.Series(resampled_texts)\n",
    "X_resample.shape, y_resample.shape"
   ]
  },
  {
   "cell_type": "code",
   "execution_count": 82,
   "metadata": {},
   "outputs": [
    {
     "data": {
      "text/plain": [
       "ham     4825\n",
       "spam    4825\n",
       "Name: Categories, dtype: int64"
      ]
     },
     "execution_count": 82,
     "metadata": {},
     "output_type": "execute_result"
    }
   ],
   "source": [
    "y_resample.value_counts()"
   ]
  },
  {
   "cell_type": "code",
   "execution_count": 83,
   "metadata": {},
   "outputs": [
    {
     "data": {
      "text/plain": [
       "0       wat amore got there cine buffet la world great...\n",
       "1                                   oni wif joking lar ok\n",
       "2       08452810075over18 apply rate txt std question ...\n",
       "3                       then already hor early so say dun\n",
       "4       though here around lives usf goes he think don...\n",
       "                              ...                        \n",
       "9645    apply for your message http com wait why cente...\n",
       "9646    in free entry wkly comp win fa 21st may 2005 t...\n",
       "9647    free week now send 50 with this 20 16 reply ur...\n",
       "9648    there you is today day www out find lucky log ...\n",
       "9649    to win and be reply first answer order questio...\n",
       "Length: 9650, dtype: object"
      ]
     },
     "execution_count": 83,
     "metadata": {},
     "output_type": "execute_result"
    }
   ],
   "source": [
    "X_resample"
   ]
  },
  {
   "cell_type": "code",
   "execution_count": 84,
   "metadata": {},
   "outputs": [
    {
     "data": {
      "text/plain": [
       "(pandas.core.series.Series, pandas.core.series.Series)"
      ]
     },
     "execution_count": 84,
     "metadata": {},
     "output_type": "execute_result"
    }
   ],
   "source": [
    "type(y_resample), type(X_resample)"
   ]
  },
  {
   "attachments": {},
   "cell_type": "markdown",
   "metadata": {},
   "source": [
    "Convert categorical data to numbers"
   ]
  },
  {
   "cell_type": "code",
   "execution_count": 97,
   "metadata": {},
   "outputs": [],
   "source": [
    "y_resample=y_resample.apply(lambda x: 1 if x=='spam' else 0)"
   ]
  },
  {
   "attachments": {},
   "cell_type": "markdown",
   "metadata": {},
   "source": [
    "split data to train and test"
   ]
  },
  {
   "cell_type": "code",
   "execution_count": 99,
   "metadata": {},
   "outputs": [],
   "source": [
    "from sklearn.model_selection import train_test_split\n",
    "X_train, X_test,y_train,y_test=train_test_split(X_resample,y_resample, test_size=0.2, shuffle=True, stratify=y_resample)\n"
   ]
  },
  {
   "attachments": {},
   "cell_type": "markdown",
   "metadata": {},
   "source": [
    "Now import bert and get embeding for few sentences"
   ]
  },
  {
   "cell_type": "code",
   "execution_count": 101,
   "metadata": {},
   "outputs": [
    {
     "name": "stderr",
     "output_type": "stream",
     "text": [
      "2023-06-03 20:24:53.175943: I tensorflow/core/common_runtime/executor.cc:1197] [/device:CPU:0] (DEBUG INFO) Executor start aborting (this does not indicate an error and you can ignore this message): INVALID_ARGUMENT: You must feed a value for placeholder tensor 'seq_length' with dtype int32\n",
      "\t [[{{node seq_length}}]]\n",
      "2023-06-03 20:24:53.176486: I tensorflow/core/common_runtime/executor.cc:1197] [/device:CPU:0] (DEBUG INFO) Executor start aborting (this does not indicate an error and you can ignore this message): INVALID_ARGUMENT: You must feed a value for placeholder tensor 'seq_length' with dtype int32\n",
      "\t [[{{node seq_length}}]]\n",
      "2023-06-03 20:24:53.176654: I tensorflow/core/common_runtime/executor.cc:1197] [/device:CPU:0] (DEBUG INFO) Executor start aborting (this does not indicate an error and you can ignore this message): INVALID_ARGUMENT: You must feed a value for placeholder tensor 'seq_length' with dtype int32\n",
      "\t [[{{node seq_length}}]]\n",
      "2023-06-03 20:24:53.177077: I tensorflow/core/common_runtime/executor.cc:1197] [/device:CPU:0] (DEBUG INFO) Executor start aborting (this does not indicate an error and you can ignore this message): INVALID_ARGUMENT: You must feed a value for placeholder tensor 'seq_length' with dtype int32\n",
      "\t [[{{node seq_length}}]]\n",
      "2023-06-03 20:24:53.177296: I tensorflow/core/common_runtime/executor.cc:1197] [/device:CPU:0] (DEBUG INFO) Executor start aborting (this does not indicate an error and you can ignore this message): INVALID_ARGUMENT: You must feed a value for placeholder tensor 'seq_length' with dtype int32\n",
      "\t [[{{node seq_length}}]]\n",
      "2023-06-03 20:24:53.177401: I tensorflow/core/common_runtime/executor.cc:1197] [/device:CPU:0] (DEBUG INFO) Executor start aborting (this does not indicate an error and you can ignore this message): INVALID_ARGUMENT: You must feed a value for placeholder tensor 'seq_length' with dtype int32\n",
      "\t [[{{node seq_length}}]]\n",
      "2023-06-03 20:24:53.177496: I tensorflow/core/common_runtime/executor.cc:1197] [/device:CPU:0] (DEBUG INFO) Executor start aborting (this does not indicate an error and you can ignore this message): INVALID_ARGUMENT: You must feed a value for placeholder tensor 'seq_length' with dtype int32\n",
      "\t [[{{node seq_length}}]]\n",
      "2023-06-03 20:24:53.517935: I tensorflow/core/common_runtime/executor.cc:1197] [/device:CPU:0] (DEBUG INFO) Executor start aborting (this does not indicate an error and you can ignore this message): INVALID_ARGUMENT: You must feed a value for placeholder tensor 'seq_length' with dtype int32\n",
      "\t [[{{node seq_length}}]]\n",
      "2023-06-03 20:24:53.518864: I tensorflow/core/common_runtime/executor.cc:1197] [/device:CPU:0] (DEBUG INFO) Executor start aborting (this does not indicate an error and you can ignore this message): INVALID_ARGUMENT: You must feed a value for placeholder tensor 'seq_length' with dtype int32\n",
      "\t [[{{node seq_length}}]]\n",
      "2023-06-03 20:24:53.519059: I tensorflow/core/common_runtime/executor.cc:1197] [/device:CPU:0] (DEBUG INFO) Executor start aborting (this does not indicate an error and you can ignore this message): INVALID_ARGUMENT: You must feed a value for placeholder tensor 'seq_length' with dtype int32\n",
      "\t [[{{node seq_length}}]]\n",
      "2023-06-03 20:24:53.519822: I tensorflow/core/common_runtime/executor.cc:1197] [/device:CPU:0] (DEBUG INFO) Executor start aborting (this does not indicate an error and you can ignore this message): INVALID_ARGUMENT: You must feed a value for placeholder tensor 'seq_length' with dtype int32\n",
      "\t [[{{node seq_length}}]]\n",
      "2023-06-03 20:24:53.520089: I tensorflow/core/common_runtime/executor.cc:1197] [/device:CPU:0] (DEBUG INFO) Executor start aborting (this does not indicate an error and you can ignore this message): INVALID_ARGUMENT: You must feed a value for placeholder tensor 'seq_length' with dtype int32\n",
      "\t [[{{node seq_length}}]]\n",
      "2023-06-03 20:24:53.520200: I tensorflow/core/common_runtime/executor.cc:1197] [/device:CPU:0] (DEBUG INFO) Executor start aborting (this does not indicate an error and you can ignore this message): INVALID_ARGUMENT: You must feed a value for placeholder tensor 'seq_length' with dtype int32\n",
      "\t [[{{node seq_length}}]]\n",
      "2023-06-03 20:24:53.520332: I tensorflow/core/common_runtime/executor.cc:1197] [/device:CPU:0] (DEBUG INFO) Executor start aborting (this does not indicate an error and you can ignore this message): INVALID_ARGUMENT: You must feed a value for placeholder tensor 'seq_length' with dtype int32\n",
      "\t [[{{node seq_length}}]]\n",
      "2023-06-03 20:24:54.216899: I tensorflow/core/common_runtime/executor.cc:1197] [/device:CPU:0] (DEBUG INFO) Executor start aborting (this does not indicate an error and you can ignore this message): INVALID_ARGUMENT: You must feed a value for placeholder tensor 'seq_length' with dtype int32\n",
      "\t [[{{node seq_length}}]]\n",
      "2023-06-03 20:24:54.217402: I tensorflow/core/common_runtime/executor.cc:1197] [/device:CPU:0] (DEBUG INFO) Executor start aborting (this does not indicate an error and you can ignore this message): INVALID_ARGUMENT: You must feed a value for placeholder tensor 'seq_length' with dtype int32\n",
      "\t [[{{node seq_length}}]]\n",
      "2023-06-03 20:24:54.217548: I tensorflow/core/common_runtime/executor.cc:1197] [/device:CPU:0] (DEBUG INFO) Executor start aborting (this does not indicate an error and you can ignore this message): INVALID_ARGUMENT: You must feed a value for placeholder tensor 'seq_length' with dtype int32\n",
      "\t [[{{node seq_length}}]]\n",
      "2023-06-03 20:24:54.217931: I tensorflow/core/common_runtime/executor.cc:1197] [/device:CPU:0] (DEBUG INFO) Executor start aborting (this does not indicate an error and you can ignore this message): INVALID_ARGUMENT: You must feed a value for placeholder tensor 'seq_length' with dtype int32\n",
      "\t [[{{node seq_length}}]]\n",
      "2023-06-03 20:24:54.218136: I tensorflow/core/common_runtime/executor.cc:1197] [/device:CPU:0] (DEBUG INFO) Executor start aborting (this does not indicate an error and you can ignore this message): INVALID_ARGUMENT: You must feed a value for placeholder tensor 'seq_length' with dtype int32\n",
      "\t [[{{node seq_length}}]]\n",
      "2023-06-03 20:24:54.218237: I tensorflow/core/common_runtime/executor.cc:1197] [/device:CPU:0] (DEBUG INFO) Executor start aborting (this does not indicate an error and you can ignore this message): INVALID_ARGUMENT: You must feed a value for placeholder tensor 'seq_length' with dtype int32\n",
      "\t [[{{node seq_length}}]]\n",
      "2023-06-03 20:24:54.218389: I tensorflow/core/common_runtime/executor.cc:1197] [/device:CPU:0] (DEBUG INFO) Executor start aborting (this does not indicate an error and you can ignore this message): INVALID_ARGUMENT: You must feed a value for placeholder tensor 'seq_length' with dtype int32\n",
      "\t [[{{node seq_length}}]]\n",
      "2023-06-03 20:24:54.921516: I tensorflow/core/common_runtime/executor.cc:1197] [/device:CPU:0] (DEBUG INFO) Executor start aborting (this does not indicate an error and you can ignore this message): INVALID_ARGUMENT: You must feed a value for placeholder tensor 'seq_length' with dtype int32\n",
      "\t [[{{node seq_length}}]]\n",
      "2023-06-03 20:24:54.922088: I tensorflow/core/common_runtime/executor.cc:1197] [/device:CPU:0] (DEBUG INFO) Executor start aborting (this does not indicate an error and you can ignore this message): INVALID_ARGUMENT: You must feed a value for placeholder tensor 'seq_length' with dtype int32\n",
      "\t [[{{node seq_length}}]]\n",
      "2023-06-03 20:24:54.922233: I tensorflow/core/common_runtime/executor.cc:1197] [/device:CPU:0] (DEBUG INFO) Executor start aborting (this does not indicate an error and you can ignore this message): INVALID_ARGUMENT: You must feed a value for placeholder tensor 'seq_length' with dtype int32\n",
      "\t [[{{node seq_length}}]]\n",
      "2023-06-03 20:24:54.922771: I tensorflow/core/common_runtime/executor.cc:1197] [/device:CPU:0] (DEBUG INFO) Executor start aborting (this does not indicate an error and you can ignore this message): INVALID_ARGUMENT: You must feed a value for placeholder tensor 'seq_length' with dtype int32\n",
      "\t [[{{node seq_length}}]]\n",
      "2023-06-03 20:24:54.923148: I tensorflow/core/common_runtime/executor.cc:1197] [/device:CPU:0] (DEBUG INFO) Executor start aborting (this does not indicate an error and you can ignore this message): INVALID_ARGUMENT: You must feed a value for placeholder tensor 'seq_length' with dtype int32\n",
      "\t [[{{node seq_length}}]]\n",
      "2023-06-03 20:24:54.923324: I tensorflow/core/common_runtime/executor.cc:1197] [/device:CPU:0] (DEBUG INFO) Executor start aborting (this does not indicate an error and you can ignore this message): INVALID_ARGUMENT: You must feed a value for placeholder tensor 'seq_length' with dtype int32\n",
      "\t [[{{node seq_length}}]]\n",
      "2023-06-03 20:24:54.923700: I tensorflow/core/common_runtime/executor.cc:1197] [/device:CPU:0] (DEBUG INFO) Executor start aborting (this does not indicate an error and you can ignore this message): INVALID_ARGUMENT: You must feed a value for placeholder tensor 'seq_length' with dtype int32\n",
      "\t [[{{node seq_length}}]]\n"
     ]
    }
   ],
   "source": [
    "bert_preprocess = hub.KerasLayer(\"https://tfhub.dev/tensorflow/bert_en_uncased_preprocess/3\")\n",
    "bert_encoder = hub.KerasLayer(\"https://tfhub.dev/tensorflow/bert_en_uncased_L-12_H-768_A-12/4\")"
   ]
  },
  {
   "attachments": {},
   "cell_type": "markdown",
   "metadata": {},
   "source": [
    "write a function to get a sentences and convert them to vectors"
   ]
  },
  {
   "cell_type": "code",
   "execution_count": 104,
   "metadata": {},
   "outputs": [],
   "source": [
    "def get_sentences(sentence):\n",
    "    pre_processing=bert_preprocess(sentence)\n",
    "    embeding=bert_encoder(pre_processing)['pooled_output']\n",
    "    return embeding\n"
   ]
  },
  {
   "attachments": {},
   "cell_type": "markdown",
   "metadata": {},
   "source": [
    "example"
   ]
  },
  {
   "cell_type": "code",
   "execution_count": 105,
   "metadata": {},
   "outputs": [
    {
     "data": {
      "text/plain": [
       "<tf.Tensor: shape=(2, 768), dtype=float32, numpy=\n",
       "array([[-0.8435168 , -0.5132725 , -0.8884573 , ..., -0.7474888 ,\n",
       "        -0.75314724,  0.91964483],\n",
       "       [-0.87208354, -0.50543964, -0.9444667 , ..., -0.858475  ,\n",
       "        -0.7174534 ,  0.8808297 ]], dtype=float32)>"
      ]
     },
     "execution_count": 105,
     "metadata": {},
     "output_type": "execute_result"
    }
   ],
   "source": [
    "get_sentences([\n",
    "    \"500$ discount. hurry up\", \n",
    "    \"Bhavin, are you up for a volleybal game tomorrow?\"]\n",
    ")"
   ]
  },
  {
   "attachments": {},
   "cell_type": "markdown",
   "metadata": {},
   "source": [
    "get some embeding vectors for some words and compare their similarities"
   ]
  },
  {
   "cell_type": "code",
   "execution_count": 118,
   "metadata": {},
   "outputs": [],
   "source": [
    "words_sample = get_sentences([\n",
    "    \"banana\", \n",
    "    \"grapes\",\n",
    "    \"mango\",\n",
    "    \"jeff bezos\",\n",
    "    \"elon musk\",\n",
    "    \"bill gates\",\n",
    "    \"james band\"\n",
    "]\n",
    ")"
   ]
  },
  {
   "cell_type": "code",
   "execution_count": 124,
   "metadata": {},
   "outputs": [
    {
     "data": {
      "text/plain": [
       "array([[0.9911088]], dtype=float32)"
      ]
     },
     "execution_count": 124,
     "metadata": {},
     "output_type": "execute_result"
    }
   ],
   "source": [
    "from sklearn.metrics.pairwise import cosine_similarity\n",
    "\n",
    "cosine_similarity([words_sample[0]],[words_sample[1]])"
   ]
  },
  {
   "cell_type": "code",
   "execution_count": 125,
   "metadata": {},
   "outputs": [
    {
     "data": {
      "text/plain": [
       "array([[0.8800466]], dtype=float32)"
      ]
     },
     "execution_count": 125,
     "metadata": {},
     "output_type": "execute_result"
    }
   ],
   "source": [
    "cosine_similarity([words_sample[0]],[words_sample[6]])"
   ]
  },
  {
   "cell_type": "code",
   "execution_count": 126,
   "metadata": {},
   "outputs": [
    {
     "data": {
      "text/plain": [
       "array([[0.84703815]], dtype=float32)"
      ]
     },
     "execution_count": 126,
     "metadata": {},
     "output_type": "execute_result"
    }
   ],
   "source": [
    "cosine_similarity([words_sample[0]],[words_sample[3]])"
   ]
  },
  {
   "cell_type": "code",
   "execution_count": 127,
   "metadata": {},
   "outputs": [
    {
     "data": {
      "text/plain": [
       "array([[0.9164166]], dtype=float32)"
      ]
     },
     "execution_count": 127,
     "metadata": {},
     "output_type": "execute_result"
    }
   ],
   "source": [
    "cosine_similarity([words_sample[4]],[words_sample[5]])"
   ]
  },
  {
   "attachments": {},
   "cell_type": "markdown",
   "metadata": {},
   "source": [
    "Let's start modeling: \n",
    "There are twoways ofmodeling: sequential and functional. First start with sequentioa"
   ]
  },
  {
   "cell_type": "code",
   "execution_count": 142,
   "metadata": {},
   "outputs": [
    {
     "name": "stderr",
     "output_type": "stream",
     "text": [
      "2023-06-05 10:37:45.158866: I tensorflow/core/common_runtime/executor.cc:1197] [/device:CPU:0] (DEBUG INFO) Executor start aborting (this does not indicate an error and you can ignore this message): INVALID_ARGUMENT: You must feed a value for placeholder tensor 'Placeholder' with dtype string and shape [?]\n",
      "\t [[{{node Placeholder}}]]\n",
      "2023-06-05 10:37:45.703065: I tensorflow/core/common_runtime/executor.cc:1197] [/device:CPU:0] (DEBUG INFO) Executor start aborting (this does not indicate an error and you can ignore this message): INVALID_ARGUMENT: You must feed a value for placeholder tensor 'Placeholder_1' with dtype int32 and shape [?,128]\n",
      "\t [[{{node Placeholder_1}}]]\n",
      "2023-06-05 10:37:45.703209: I tensorflow/core/common_runtime/executor.cc:1197] [/device:CPU:0] (DEBUG INFO) Executor start aborting (this does not indicate an error and you can ignore this message): INVALID_ARGUMENT: You must feed a value for placeholder tensor 'Placeholder_2' with dtype int32 and shape [?,128]\n",
      "\t [[{{node Placeholder_2}}]]\n"
     ]
    }
   ],
   "source": [
    "text_input = tf.keras.layers.Input(shape=(), dtype=tf.string, name='text')\n",
    "preprocessed_text = bert_preprocess(text_input)\n",
    "outputs = bert_encoder(preprocessed_text)\n",
    "\n",
    "# Neural network layers\n",
    "l = tf.keras.layers.Dropout(0.1, name=\"dropout\")(outputs['pooled_output'])\n",
    "l = tf.keras.layers.Dense(1, activation='sigmoid', name=\"output\")(l)\n",
    "\n",
    "# Use inputs and outputs to construct a final model\n",
    "model = tf.keras.Model(inputs=[text_input], outputs = [l])"
   ]
  },
  {
   "cell_type": "code",
   "execution_count": 144,
   "metadata": {},
   "outputs": [
    {
     "name": "stdout",
     "output_type": "stream",
     "text": [
      "Model: \"model_1\"\n",
      "__________________________________________________________________________________________________\n",
      " Layer (type)                   Output Shape         Param #     Connected to                     \n",
      "==================================================================================================\n",
      " text (InputLayer)              [(None,)]            0           []                               \n",
      "                                                                                                  \n",
      " keras_layer (KerasLayer)       {'input_mask': (Non  0           ['text[0][0]']                   \n",
      "                                e, 128),                                                          \n",
      "                                 'input_type_ids':                                                \n",
      "                                (None, 128),                                                      \n",
      "                                 'input_word_ids':                                                \n",
      "                                (None, 128)}                                                      \n",
      "                                                                                                  \n",
      " keras_layer_1 (KerasLayer)     {'default': (None,   109482241   ['keras_layer[1][0]',            \n",
      "                                768),                             'keras_layer[1][1]',            \n",
      "                                 'encoder_outputs':               'keras_layer[1][2]']            \n",
      "                                 [(None, 128, 768),                                               \n",
      "                                 (None, 128, 768),                                                \n",
      "                                 (None, 128, 768),                                                \n",
      "                                 (None, 128, 768),                                                \n",
      "                                 (None, 128, 768),                                                \n",
      "                                 (None, 128, 768),                                                \n",
      "                                 (None, 128, 768),                                                \n",
      "                                 (None, 128, 768),                                                \n",
      "                                 (None, 128, 768),                                                \n",
      "                                 (None, 128, 768),                                                \n",
      "                                 (None, 128, 768),                                                \n",
      "                                 (None, 128, 768)],                                               \n",
      "                                 'pooled_output': (                                               \n",
      "                                None, 768),                                                       \n",
      "                                 'sequence_output':                                               \n",
      "                                 (None, 128, 768)}                                                \n",
      "                                                                                                  \n",
      " dropout (Dropout)              (None, 768)          0           ['keras_layer_1[1][13]']         \n",
      "                                                                                                  \n",
      " output (Dense)                 (None, 1)            769         ['dropout[0][0]']                \n",
      "                                                                                                  \n",
      "==================================================================================================\n",
      "Total params: 109,483,010\n",
      "Trainable params: 769\n",
      "Non-trainable params: 109,482,241\n",
      "__________________________________________________________________________________________________\n"
     ]
    }
   ],
   "source": [
    "model.summary()\n"
   ]
  },
  {
   "cell_type": "code",
   "execution_count": 145,
   "metadata": {},
   "outputs": [],
   "source": [
    "Metrics=[\n",
    "    keras.metrics.BinaryAccuracy(name='accuracy'),\n",
    "    keras.metrics.Precision(name='precision'),\n",
    "    keras.metrics.Recall(name='recall')\n",
    "]\n",
    "model.compile(optimizer='adam',\n",
    "              loss='binary_crossentropy',\n",
    "              metrics=Metrics)"
   ]
  },
  {
   "cell_type": "code",
   "execution_count": 146,
   "metadata": {},
   "outputs": [
    {
     "name": "stdout",
     "output_type": "stream",
     "text": [
      "Epoch 1/10\n",
      "242/242 [==============================] - 1001s 4s/step - loss: 0.4117 - accuracy: 0.8646 - precision: 0.8571 - recall: 0.8751\n",
      "Epoch 2/10\n",
      "242/242 [==============================] - 977s 4s/step - loss: 0.2281 - accuracy: 0.9370 - precision: 0.9402 - recall: 0.9334\n",
      "Epoch 3/10\n",
      "242/242 [==============================] - 979s 4s/step - loss: 0.1801 - accuracy: 0.9475 - precision: 0.9509 - recall: 0.9438\n",
      "Epoch 4/10\n",
      "242/242 [==============================] - 956s 4s/step - loss: 0.1575 - accuracy: 0.9528 - precision: 0.9557 - recall: 0.9497\n",
      "Epoch 5/10\n",
      "242/242 [==============================] - 947s 4s/step - loss: 0.1398 - accuracy: 0.9602 - precision: 0.9640 - recall: 0.9562\n",
      "Epoch 6/10\n",
      "242/242 [==============================] - 964s 4s/step - loss: 0.1280 - accuracy: 0.9614 - precision: 0.9640 - recall: 0.9585\n",
      "Epoch 7/10\n",
      "242/242 [==============================] - 972s 4s/step - loss: 0.1174 - accuracy: 0.9654 - precision: 0.9687 - recall: 0.9619\n",
      "Epoch 8/10\n",
      "242/242 [==============================] - 984s 4s/step - loss: 0.1079 - accuracy: 0.9679 - precision: 0.9701 - recall: 0.9655\n",
      "Epoch 9/10\n",
      "242/242 [==============================] - 974s 4s/step - loss: 0.1059 - accuracy: 0.9685 - precision: 0.9726 - recall: 0.9642\n",
      "Epoch 10/10\n",
      "242/242 [==============================] - 993s 4s/step - loss: 0.0973 - accuracy: 0.9701 - precision: 0.9739 - recall: 0.9661\n"
     ]
    },
    {
     "data": {
      "text/plain": [
       "<keras.callbacks.History at 0x173983410>"
      ]
     },
     "execution_count": 146,
     "metadata": {},
     "output_type": "execute_result"
    }
   ],
   "source": [
    "model.fit(X_train,y_train, epochs=10)"
   ]
  },
  {
   "attachments": {},
   "cell_type": "markdown",
   "metadata": {},
   "source": [
    "prediction"
   ]
  },
  {
   "cell_type": "code",
   "execution_count": 148,
   "metadata": {},
   "outputs": [
    {
     "name": "stdout",
     "output_type": "stream",
     "text": [
      "61/61 [==============================] - 267s 4s/step\n"
     ]
    }
   ],
   "source": [
    "Predict=model.predict(X_test)"
   ]
  },
  {
   "cell_type": "code",
   "execution_count": 149,
   "metadata": {},
   "outputs": [
    {
     "data": {
      "text/plain": [
       "array([[0.03258803],\n",
       "       [0.97095114],\n",
       "       [0.00230113],\n",
       "       ...,\n",
       "       [0.0090291 ],\n",
       "       [0.8402564 ],\n",
       "       [0.7888591 ]], dtype=float32)"
      ]
     },
     "execution_count": 149,
     "metadata": {},
     "output_type": "execute_result"
    }
   ],
   "source": [
    "Predict"
   ]
  },
  {
   "attachments": {},
   "cell_type": "markdown",
   "metadata": {},
   "source": [
    "Predict is two dimentional array. We use flatten to make it one dimentional array."
   ]
  },
  {
   "cell_type": "code",
   "execution_count": 151,
   "metadata": {},
   "outputs": [
    {
     "data": {
      "text/plain": [
       "array([0.03258803, 0.97095114, 0.00230113, ..., 0.0090291 , 0.8402564 ,\n",
       "       0.7888591 ], dtype=float32)"
      ]
     },
     "execution_count": 151,
     "metadata": {},
     "output_type": "execute_result"
    }
   ],
   "source": [
    "predict_flt=Predict.flatten()\n",
    "predict_flt"
   ]
  },
  {
   "attachments": {},
   "cell_type": "markdown",
   "metadata": {},
   "source": [
    "Since Predict is the result of Sigmoid function, we use following function to convert them to 0 and 1"
   ]
  },
  {
   "cell_type": "code",
   "execution_count": 154,
   "metadata": {},
   "outputs": [
    {
     "data": {
      "text/plain": [
       "array([0, 1, 0, ..., 0, 1, 1])"
      ]
     },
     "execution_count": 154,
     "metadata": {},
     "output_type": "execute_result"
    }
   ],
   "source": [
    "predict_flt=np.where(predict_flt>0.5, 1,0)\n",
    "predict_flt"
   ]
  },
  {
   "cell_type": "code",
   "execution_count": 160,
   "metadata": {},
   "outputs": [
    {
     "data": {
      "text/plain": [
       "array([[933,  20],\n",
       "       [ 32, 945]])"
      ]
     },
     "execution_count": 160,
     "metadata": {},
     "output_type": "execute_result"
    }
   ],
   "source": [
    "from sklearn.metrics import confusion_matrix, classification_report\n",
    "cm=confusion_matrix(predict_flt, y_test)\n",
    "cm"
   ]
  },
  {
   "cell_type": "code",
   "execution_count": 165,
   "metadata": {},
   "outputs": [
    {
     "data": {
      "text/plain": [
       "Text(50.722222222222214, 0.5, 'Truth')"
      ]
     },
     "execution_count": 165,
     "metadata": {},
     "output_type": "execute_result"
    },
    {
     "data": {
      "image/png": "[encoded data removed]",
      "text/plain": [
       "<Figure size 640x480 with 2 Axes>"
      ]
     },
     "metadata": {},
     "output_type": "display_data"
    }
   ],
   "source": [
    "from matplotlib import pyplot as plt\n",
    "import seaborn as sn\n",
    "sn.heatmap(cm, annot=True, fmt='d')\n",
    "plt.xlabel('Predicted')\n",
    "plt.ylabel('Truth')"
   ]
  },
  {
   "cell_type": "code",
   "execution_count": 166,
   "metadata": {},
   "outputs": [
    {
     "name": "stdout",
     "output_type": "stream",
     "text": [
      "              precision    recall  f1-score   support\n",
      "\n",
      "           0       0.98      0.97      0.97       965\n",
      "           1       0.97      0.98      0.97       965\n",
      "\n",
      "    accuracy                           0.97      1930\n",
      "   macro avg       0.97      0.97      0.97      1930\n",
      "weighted avg       0.97      0.97      0.97      1930\n",
      "\n"
     ]
    }
   ],
   "source": [
    "print(classification_report(y_test, predict_flt))"
   ]
  },
  {
   "attachments": {},
   "cell_type": "markdown",
   "metadata": {},
   "source": [
    "Some tests"
   ]
  },
  {
   "cell_type": "code",
   "execution_count": 167,
   "metadata": {},
   "outputs": [
    {
     "name": "stderr",
     "output_type": "stream",
     "text": [
      "2023-06-05 14:48:46.871049: I tensorflow/core/common_runtime/executor.cc:1197] [/device:CPU:0] (DEBUG INFO) Executor start aborting (this does not indicate an error and you can ignore this message): INVALID_ARGUMENT: You must feed a value for placeholder tensor 'inputs' with dtype string\n",
      "\t [[{{node inputs}}]]\n"
     ]
    },
    {
     "name": "stdout",
     "output_type": "stream",
     "text": [
      "1/1 [==============================] - 4s 4s/step\n"
     ]
    },
    {
     "data": {
      "text/plain": [
       "array([[0.7061082 ],\n",
       "       [0.97779655],\n",
       "       [0.7929735 ],\n",
       "       [0.17988247],\n",
       "       [0.03597472]], dtype=float32)"
      ]
     },
     "execution_count": 167,
     "metadata": {},
     "output_type": "execute_result"
    }
   ],
   "source": [
    "reviews = [\n",
    "    'Enter a chance to win $5000, hurry up, offer valid until march 31, 2021',\n",
    "    'You are awarded a SiPix Digital Camera! call 09061221061 from landline. Delivery within 28days. T Cs Box177. M221BP. 2yr warranty. 150ppm. 16 . p pÂ£3.99',\n",
    "    'it to 80488. Your 500 free text messages are valid until 31 December 2005.',\n",
    "    'Hey Sam, Are you coming for a cricket game tomorrow',\n",
    "    \"Why don't you wait 'til at least wednesday to see if you get your .\"\n",
    "]\n",
    "model.predict(reviews)"
   ]
  }
 ],
 "metadata": {
  "kernelspec": {
   "display_name": "pygmt",
   "language": "python",
   "name": "python3"
  },
  "language_info": {
   "codemirror_mode": {
    "name": "ipython",
    "version": 3
   },
   "file_extension": ".py",
   "mimetype": "text/x-python",
   "name": "python",
   "nbconvert_exporter": "python",
   "pygments_lexer": "ipython3",
   "version": "3.11.0"
  },
  "orig_nbformat": 4
 },
 "nbformat": 4,
 "nbformat_minor": 2
}
